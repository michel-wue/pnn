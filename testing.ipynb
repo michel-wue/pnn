{
 "cells": [
  {
   "cell_type": "code",
   "execution_count": 1,
   "metadata": {},
   "outputs": [],
   "source": [
    "%load_ext autoreload\n",
    "%autoreload 2"
   ]
  },
  {
   "cell_type": "code",
   "execution_count": 2,
   "metadata": {},
   "outputs": [],
   "source": [
    "from src.pnn.layer.input_layer import InputLayer\n",
    "from src.pnn.tensor import Tensor\n",
    "from src.pnn.layer.fully_connected import FullyConnected\n",
    "from src.pnn.layer.activation import ActivationLayer, sigmoid, soft_max\n",
    "from src.pnn.losses import mean_squared_error\n",
    "from src.pnn.network import Network\n",
    "import mnist\n",
    "import numpy as np "
   ]
  },
  {
   "cell_type": "code",
   "execution_count": 259,
   "metadata": {},
   "outputs": [],
   "source": [
    "images = mnist.train_images()"
   ]
  },
  {
   "cell_type": "code",
   "execution_count": 4,
   "metadata": {},
   "outputs": [
    {
     "ename": "ConnectionAbortedError",
     "evalue": "[WinError 10053] Eine bestehende Verbindung wurde softwaregesteuert\r\ndurch den Hostcomputer abgebrochen",
     "output_type": "error",
     "traceback": [
      "\u001b[1;31m---------------------------------------------------------------------------\u001b[0m",
      "\u001b[1;31mConnectionAbortedError\u001b[0m                    Traceback (most recent call last)",
      "Cell \u001b[1;32mIn[4], line 1\u001b[0m\n\u001b[1;32m----> 1\u001b[0m train_images \u001b[38;5;241m=\u001b[39m \u001b[43mmnist\u001b[49m\u001b[38;5;241;43m.\u001b[39;49m\u001b[43mtrain_images\u001b[49m\u001b[43m(\u001b[49m\u001b[43m)\u001b[49m\n\u001b[0;32m      2\u001b[0m train_labels \u001b[38;5;241m=\u001b[39m mnist\u001b[38;5;241m.\u001b[39mtrain_labels()\n\u001b[0;32m      4\u001b[0m test_images \u001b[38;5;241m=\u001b[39m mnist\u001b[38;5;241m.\u001b[39mtest_images()\n",
      "File \u001b[1;32mc:\\Users\\jeany\\AppData\\Local\\pypoetry\\Cache\\virtualenvs\\pnn-oSzE38iI-py3.11\\Lib\\site-packages\\mnist\\__init__.py:161\u001b[0m, in \u001b[0;36mtrain_images\u001b[1;34m()\u001b[0m\n\u001b[0;32m    149\u001b[0m \u001b[38;5;28;01mdef\u001b[39;00m \u001b[38;5;21mtrain_images\u001b[39m():\n\u001b[0;32m    150\u001b[0m \u001b[38;5;250m    \u001b[39m\u001b[38;5;124;03m\"\"\"Return train images from Yann LeCun MNIST database as a numpy array.\u001b[39;00m\n\u001b[0;32m    151\u001b[0m \u001b[38;5;124;03m    Download the file, if not already found in the temporary directory of\u001b[39;00m\n\u001b[0;32m    152\u001b[0m \u001b[38;5;124;03m    the system.\u001b[39;00m\n\u001b[1;32m   (...)\u001b[0m\n\u001b[0;32m    159\u001b[0m \u001b[38;5;124;03m        columns of the image\u001b[39;00m\n\u001b[0;32m    160\u001b[0m \u001b[38;5;124;03m    \"\"\"\u001b[39;00m\n\u001b[1;32m--> 161\u001b[0m     \u001b[38;5;28;01mreturn\u001b[39;00m \u001b[43mdownload_and_parse_mnist_file\u001b[49m\u001b[43m(\u001b[49m\u001b[38;5;124;43m'\u001b[39;49m\u001b[38;5;124;43mtrain-images-idx3-ubyte.gz\u001b[39;49m\u001b[38;5;124;43m'\u001b[39;49m\u001b[43m)\u001b[49m\n",
      "File \u001b[1;32mc:\\Users\\jeany\\AppData\\Local\\pypoetry\\Cache\\virtualenvs\\pnn-oSzE38iI-py3.11\\Lib\\site-packages\\mnist\\__init__.py:143\u001b[0m, in \u001b[0;36mdownload_and_parse_mnist_file\u001b[1;34m(fname, target_dir, force)\u001b[0m\n\u001b[0;32m    123\u001b[0m \u001b[38;5;28;01mdef\u001b[39;00m \u001b[38;5;21mdownload_and_parse_mnist_file\u001b[39m(fname, target_dir\u001b[38;5;241m=\u001b[39m\u001b[38;5;28;01mNone\u001b[39;00m, force\u001b[38;5;241m=\u001b[39m\u001b[38;5;28;01mFalse\u001b[39;00m):\n\u001b[0;32m    124\u001b[0m \u001b[38;5;250m    \u001b[39m\u001b[38;5;124;03m\"\"\"Download the IDX file named fname from the URL specified in dataset_url\u001b[39;00m\n\u001b[0;32m    125\u001b[0m \u001b[38;5;124;03m    and return it as a numpy array.\u001b[39;00m\n\u001b[0;32m    126\u001b[0m \n\u001b[1;32m   (...)\u001b[0m\n\u001b[0;32m    141\u001b[0m \u001b[38;5;124;03m        Numpy array with the dimensions and the data in the IDX file\u001b[39;00m\n\u001b[0;32m    142\u001b[0m \u001b[38;5;124;03m    \"\"\"\u001b[39;00m\n\u001b[1;32m--> 143\u001b[0m     fname \u001b[38;5;241m=\u001b[39m \u001b[43mdownload_file\u001b[49m\u001b[43m(\u001b[49m\u001b[43mfname\u001b[49m\u001b[43m,\u001b[49m\u001b[43m \u001b[49m\u001b[43mtarget_dir\u001b[49m\u001b[38;5;241;43m=\u001b[39;49m\u001b[43mtarget_dir\u001b[49m\u001b[43m,\u001b[49m\u001b[43m \u001b[49m\u001b[43mforce\u001b[49m\u001b[38;5;241;43m=\u001b[39;49m\u001b[43mforce\u001b[49m\u001b[43m)\u001b[49m\n\u001b[0;32m    144\u001b[0m     fopen \u001b[38;5;241m=\u001b[39m gzip\u001b[38;5;241m.\u001b[39mopen \u001b[38;5;28;01mif\u001b[39;00m os\u001b[38;5;241m.\u001b[39mpath\u001b[38;5;241m.\u001b[39msplitext(fname)[\u001b[38;5;241m1\u001b[39m] \u001b[38;5;241m==\u001b[39m \u001b[38;5;124m'\u001b[39m\u001b[38;5;124m.gz\u001b[39m\u001b[38;5;124m'\u001b[39m \u001b[38;5;28;01melse\u001b[39;00m \u001b[38;5;28mopen\u001b[39m\n\u001b[0;32m    145\u001b[0m     \u001b[38;5;28;01mwith\u001b[39;00m fopen(fname, \u001b[38;5;124m'\u001b[39m\u001b[38;5;124mrb\u001b[39m\u001b[38;5;124m'\u001b[39m) \u001b[38;5;28;01mas\u001b[39;00m fd:\n",
      "File \u001b[1;32mc:\\Users\\jeany\\AppData\\Local\\pypoetry\\Cache\\virtualenvs\\pnn-oSzE38iI-py3.11\\Lib\\site-packages\\mnist\\__init__.py:59\u001b[0m, in \u001b[0;36mdownload_file\u001b[1;34m(fname, target_dir, force)\u001b[0m\n\u001b[0;32m     57\u001b[0m \u001b[38;5;28;01mif\u001b[39;00m force \u001b[38;5;129;01mor\u001b[39;00m \u001b[38;5;129;01mnot\u001b[39;00m os\u001b[38;5;241m.\u001b[39mpath\u001b[38;5;241m.\u001b[39misfile(target_fname):\n\u001b[0;32m     58\u001b[0m     url \u001b[38;5;241m=\u001b[39m urljoin(datasets_url, fname)\n\u001b[1;32m---> 59\u001b[0m     \u001b[43murlretrieve\u001b[49m\u001b[43m(\u001b[49m\u001b[43murl\u001b[49m\u001b[43m,\u001b[49m\u001b[43m \u001b[49m\u001b[43mtarget_fname\u001b[49m\u001b[43m)\u001b[49m\n\u001b[0;32m     61\u001b[0m \u001b[38;5;28;01mreturn\u001b[39;00m target_fname\n",
      "File \u001b[1;32m~\\anaconda3\\Lib\\urllib\\request.py:270\u001b[0m, in \u001b[0;36murlretrieve\u001b[1;34m(url, filename, reporthook, data)\u001b[0m\n\u001b[0;32m    267\u001b[0m     reporthook(blocknum, bs, size)\n\u001b[0;32m    269\u001b[0m \u001b[38;5;28;01mwhile\u001b[39;00m \u001b[38;5;28;01mTrue\u001b[39;00m:\n\u001b[1;32m--> 270\u001b[0m     block \u001b[38;5;241m=\u001b[39m \u001b[43mfp\u001b[49m\u001b[38;5;241;43m.\u001b[39;49m\u001b[43mread\u001b[49m\u001b[43m(\u001b[49m\u001b[43mbs\u001b[49m\u001b[43m)\u001b[49m\n\u001b[0;32m    271\u001b[0m     \u001b[38;5;28;01mif\u001b[39;00m \u001b[38;5;129;01mnot\u001b[39;00m block:\n\u001b[0;32m    272\u001b[0m         \u001b[38;5;28;01mbreak\u001b[39;00m\n",
      "File \u001b[1;32m~\\anaconda3\\Lib\\http\\client.py:473\u001b[0m, in \u001b[0;36mHTTPResponse.read\u001b[1;34m(self, amt)\u001b[0m\n\u001b[0;32m    470\u001b[0m \u001b[38;5;28;01mif\u001b[39;00m \u001b[38;5;28mself\u001b[39m\u001b[38;5;241m.\u001b[39mlength \u001b[38;5;129;01mis\u001b[39;00m \u001b[38;5;129;01mnot\u001b[39;00m \u001b[38;5;28;01mNone\u001b[39;00m \u001b[38;5;129;01mand\u001b[39;00m amt \u001b[38;5;241m>\u001b[39m \u001b[38;5;28mself\u001b[39m\u001b[38;5;241m.\u001b[39mlength:\n\u001b[0;32m    471\u001b[0m     \u001b[38;5;66;03m# clip the read to the \"end of response\"\u001b[39;00m\n\u001b[0;32m    472\u001b[0m     amt \u001b[38;5;241m=\u001b[39m \u001b[38;5;28mself\u001b[39m\u001b[38;5;241m.\u001b[39mlength\n\u001b[1;32m--> 473\u001b[0m s \u001b[38;5;241m=\u001b[39m \u001b[38;5;28mself\u001b[39m\u001b[38;5;241m.\u001b[39mfp\u001b[38;5;241m.\u001b[39mread(amt)\n\u001b[0;32m    474\u001b[0m \u001b[38;5;28;01mif\u001b[39;00m \u001b[38;5;129;01mnot\u001b[39;00m s \u001b[38;5;129;01mand\u001b[39;00m amt:\n\u001b[0;32m    475\u001b[0m     \u001b[38;5;66;03m# Ideally, we would raise IncompleteRead if the content-length\u001b[39;00m\n\u001b[0;32m    476\u001b[0m     \u001b[38;5;66;03m# wasn't satisfied, but it might break compatibility.\u001b[39;00m\n\u001b[0;32m    477\u001b[0m     \u001b[38;5;28mself\u001b[39m\u001b[38;5;241m.\u001b[39m_close_conn()\n",
      "File \u001b[1;32m~\\anaconda3\\Lib\\socket.py:706\u001b[0m, in \u001b[0;36mSocketIO.readinto\u001b[1;34m(self, b)\u001b[0m\n\u001b[0;32m    704\u001b[0m \u001b[38;5;28;01mwhile\u001b[39;00m \u001b[38;5;28;01mTrue\u001b[39;00m:\n\u001b[0;32m    705\u001b[0m     \u001b[38;5;28;01mtry\u001b[39;00m:\n\u001b[1;32m--> 706\u001b[0m         \u001b[38;5;28;01mreturn\u001b[39;00m \u001b[38;5;28;43mself\u001b[39;49m\u001b[38;5;241;43m.\u001b[39;49m\u001b[43m_sock\u001b[49m\u001b[38;5;241;43m.\u001b[39;49m\u001b[43mrecv_into\u001b[49m\u001b[43m(\u001b[49m\u001b[43mb\u001b[49m\u001b[43m)\u001b[49m\n\u001b[0;32m    707\u001b[0m     \u001b[38;5;28;01mexcept\u001b[39;00m timeout:\n\u001b[0;32m    708\u001b[0m         \u001b[38;5;28mself\u001b[39m\u001b[38;5;241m.\u001b[39m_timeout_occurred \u001b[38;5;241m=\u001b[39m \u001b[38;5;28;01mTrue\u001b[39;00m\n",
      "\u001b[1;31mConnectionAbortedError\u001b[0m: [WinError 10053] Eine bestehende Verbindung wurde softwaregesteuert\r\ndurch den Hostcomputer abgebrochen"
     ]
    }
   ],
   "source": [
    "train_images = mnist.train_images()\n",
    "train_labels = mnist.train_labels()\n",
    "\n",
    "test_images = mnist.test_images()\n",
    "test_labels = mnist.test_labels()"
   ]
  },
  {
   "cell_type": "markdown",
   "metadata": {},
   "source": [
    "# Network"
   ]
  },
  {
   "cell_type": "code",
   "execution_count": null,
   "metadata": {},
   "outputs": [],
   "source": [
    "input_layer = InputLayer()\n",
    "out_shape=(100,)\n",
    "fully_connected = FullyConnected(in_shape=(len(train_images),), out_shape=(100,))\n",
    "activation_layer = ActivationLayer(sigmoid)\n",
    "out_shape=(10,)\n",
    "fully_connected = FullyConnected(in_shape=out_tensor_activation[0].shape, out_shape=out_shape) \n",
    "activation_layer = ActivationLayer(soft_max)"
   ]
  },
  {
   "cell_type": "markdown",
   "metadata": {},
   "source": [
    "# Input Layer"
   ]
  },
  {
   "cell_type": "code",
   "execution_count": 4,
   "metadata": {},
   "outputs": [],
   "source": [
    "input_layer = InputLayer()\n",
    "input_tensorlist = input_layer.forward(train_images)"
   ]
  },
  {
   "cell_type": "markdown",
   "metadata": {},
   "source": [
    "# Fully Connected 1"
   ]
  },
  {
   "cell_type": "code",
   "execution_count": 5,
   "metadata": {},
   "outputs": [],
   "source": [
    "out_shape=(100,)\n",
    "fully_connected = FullyConnected(in_shape=input_tensorlist[0].shape, out_shape=out_shape)\n",
    "out_tensor_fully_connected1 = np.array([Tensor(np.random.rand(out_shape[0]), None) for j in range(0, len(input_tensorlist))])\n",
    "fully_connected.forward(in_tensors=input_tensorlist, out_tensors=out_tensor_fully_connected1)"
   ]
  },
  {
   "cell_type": "code",
   "execution_count": 6,
   "metadata": {},
   "outputs": [
    {
     "data": {
      "text/plain": [
       "array([13508.72098134, 13967.47235958, 12891.76843827, 13559.41034941,\n",
       "       13418.1134926 , 13899.85378432, 14400.53736498, 14194.46904883,\n",
       "       14868.9114156 , 12899.80464552, 13259.11787762, 14343.15875237,\n",
       "       13323.32575111, 13818.54856543, 13980.41048124, 14660.41131095,\n",
       "       13801.25906233, 13600.21275362, 14025.25606226, 13464.72161719,\n",
       "       15131.72595257, 13694.38557782, 14117.9110077 , 14742.16490946,\n",
       "       13502.78931756, 12587.89353454, 14553.63896289, 13283.73739525,\n",
       "       14380.62785525, 13527.83522674, 13354.35346448, 14740.94975425,\n",
       "       12413.74139599, 14001.51509708, 14152.96230703, 13269.12453681,\n",
       "       13095.84142013, 13643.96379513, 13465.05501938, 15323.61014039,\n",
       "       13372.41951657, 15108.19755919, 14013.01390166, 14751.45337751,\n",
       "       13785.72305912, 12147.61668837, 14033.74387727, 13682.24331765,\n",
       "       14749.37564399, 12520.99288089, 12193.23060741, 13330.73454038,\n",
       "       13681.73577464, 13857.25580622, 15039.99327574, 12308.50667211,\n",
       "       14014.73309003, 12128.08791875, 14156.12810334, 12741.897314  ,\n",
       "       14760.82232382, 13822.70617402, 14389.01953332, 13850.51951206,\n",
       "       14211.27495127, 12312.76021257, 12418.6740419 , 14712.34988769,\n",
       "       14387.53477337, 13186.43962672, 13469.02050203, 13776.13993727,\n",
       "       15276.87838147, 13273.06728691, 15482.88658681, 12839.47716705,\n",
       "       13004.66755435, 12794.24123914, 14870.90784406, 12472.17874817,\n",
       "       13991.10121157, 13677.17093014, 12442.58892182, 14982.21757586,\n",
       "       12781.20055039, 13899.80200937, 14280.00872724, 13301.11421728,\n",
       "       14065.83205042, 13849.03502932, 13359.31030716, 14457.98146171,\n",
       "       15121.69683947, 13055.06940029, 13674.57375441, 14347.32932634,\n",
       "       13096.00772781, 13689.67220904, 14263.93021139, 14327.6261719 ])"
      ]
     },
     "execution_count": 6,
     "metadata": {},
     "output_type": "execute_result"
    }
   ],
   "source": [
    "out_tensor_fully_connected1[0].elements"
   ]
  },
  {
   "cell_type": "markdown",
   "metadata": {},
   "source": [
    "# Sigmoid"
   ]
  },
  {
   "cell_type": "code",
   "execution_count": 7,
   "metadata": {},
   "outputs": [],
   "source": [
    "activation_layer = ActivationLayer(sigmoid)\n",
    "out_tensor_activation = np.array([Tensor(np.random.rand(out_shape[0]), None) for j in range(0, len(input_tensorlist))])\n",
    "activation_layer.forward(out_tensor_fully_connected1, out_tensor_activation)"
   ]
  },
  {
   "cell_type": "code",
   "execution_count": 8,
   "metadata": {},
   "outputs": [
    {
     "name": "stdout",
     "output_type": "stream",
     "text": [
      "100\n"
     ]
    },
    {
     "data": {
      "text/plain": [
       "array([0.8405994 , 0.12505484, 0.95988509, 0.17798985, 0.47540882,\n",
       "       0.62778221, 0.73908771, 0.46548945, 0.09912268, 0.64038511,\n",
       "       0.39850173, 0.03833022, 0.18474362, 0.90532862, 0.54702116,\n",
       "       0.75481104, 0.87260695, 0.57710625, 0.09481868, 0.52213121,\n",
       "       0.1076132 , 0.8557017 , 0.49285399, 0.49949457, 0.71893696,\n",
       "       0.88888328, 0.42748435, 0.61362378, 0.6933513 , 0.95542516,\n",
       "       0.07387227, 0.72527326, 0.97608855, 0.05622198, 0.34561095,\n",
       "       0.3316632 , 0.61539846, 0.30292053, 0.46823986, 0.19484395,\n",
       "       0.98386855, 0.28111616, 0.2826545 , 0.08427531, 0.34829627,\n",
       "       0.41908136, 0.65082668, 0.92400108, 0.82926065, 0.26943009,\n",
       "       0.1603504 , 0.16996517, 0.62480208, 0.02674944, 0.99661946,\n",
       "       0.53703089, 0.73023159, 0.06005371, 0.69633204, 0.14688384,\n",
       "       0.75663797, 0.31557751, 0.29259599, 0.14243612, 0.82158244,\n",
       "       0.95931125, 0.41306507, 0.7521552 , 0.20418037, 0.73267079,\n",
       "       0.10756986, 0.38794696, 0.05157972, 0.70531454, 0.28806469,\n",
       "       0.17927271, 0.67031358, 0.45257211, 0.94391393, 0.38610762,\n",
       "       0.95277041, 0.72387551, 0.97304966, 0.76057214, 0.43314411,\n",
       "       0.54883793, 0.79339692, 0.26946887, 0.91374924, 0.9598195 ,\n",
       "       0.93780806, 0.78390263, 0.62735053, 0.38681815, 0.34414354,\n",
       "       0.82989853, 0.69532294, 0.23177141, 0.33853423, 0.93389652])"
      ]
     },
     "execution_count": 8,
     "metadata": {},
     "output_type": "execute_result"
    }
   ],
   "source": [
    "print(len(out_tensor_activation[0].elements))\n",
    "out_tensor_activation[1].elements"
   ]
  },
  {
   "cell_type": "markdown",
   "metadata": {},
   "source": [
    "# Fully Connected 2"
   ]
  },
  {
   "cell_type": "code",
   "execution_count": 9,
   "metadata": {},
   "outputs": [],
   "source": [
    "out_shape=(10,)\n",
    "fully_connected = FullyConnected(in_shape=out_tensor_activation[0].shape, out_shape=out_shape)\n",
    "out_tensor_fully_connected2 = np.array([Tensor(np.random.rand(out_shape[0]), None) for j in range(0, len(input_tensorlist))])\n",
    "fully_connected.forward(in_tensors=out_tensor_activation, out_tensors=out_tensor_fully_connected2)"
   ]
  },
  {
   "cell_type": "code",
   "execution_count": 10,
   "metadata": {},
   "outputs": [
    {
     "data": {
      "text/plain": [
       "array([29.26656844, 24.38841452, 24.59375486, 28.99290293, 22.42823978,\n",
       "       29.13196211, 25.39652565, 22.36149338, 25.0368257 , 23.75257423])"
      ]
     },
     "execution_count": 10,
     "metadata": {},
     "output_type": "execute_result"
    }
   ],
   "source": [
    "out_tensor_fully_connected2[0].elements"
   ]
  },
  {
   "cell_type": "markdown",
   "metadata": {},
   "source": [
    "# Soft Max"
   ]
  },
  {
   "cell_type": "code",
   "execution_count": 11,
   "metadata": {},
   "outputs": [
    {
     "data": {
      "text/plain": [
       "13821816723145.932"
      ]
     },
     "execution_count": 11,
     "metadata": {},
     "output_type": "execute_result"
    }
   ],
   "source": [
    "#summe = [np.exp(x_j) for x_j in out_tensor_fully_connected2[0].elements]\n",
    "summe = np.sum(np.exp(out_tensor_fully_connected2[0].elements))\n",
    "summe"
   ]
  },
  {
   "cell_type": "code",
   "execution_count": 12,
   "metadata": {},
   "outputs": [],
   "source": [
    "activation_layer = ActivationLayer(soft_max)\n",
    "out_tensor_activation = np.array([Tensor(np.random.rand(out_shape[0]), None) for j in range(0, len(input_tensorlist))])\n",
    "activation_layer.forward(out_tensor_fully_connected2, out_tensor_activation)"
   ]
  },
  {
   "cell_type": "code",
   "execution_count": 13,
   "metadata": {},
   "outputs": [
    {
     "name": "stdout",
     "output_type": "stream",
     "text": [
      "10\n"
     ]
    },
    {
     "data": {
      "text/plain": [
       "array([0.42594416, 0.4496701 , 0.19685133, 0.31389363, 0.93194892,\n",
       "       0.55543645, 0.29630798, 0.56869974, 0.41107898, 0.93905759])"
      ]
     },
     "execution_count": 13,
     "metadata": {},
     "output_type": "execute_result"
    }
   ],
   "source": [
    "print(len(out_tensor_activation[0].elements))\n",
    "out_tensor_activation[0].elements"
   ]
  },
  {
   "cell_type": "markdown",
   "metadata": {},
   "source": [
    "# Mean Squared Error"
   ]
  },
  {
   "cell_type": "code",
   "execution_count": 14,
   "metadata": {},
   "outputs": [],
   "source": [
    "prediction = np.array([out_tensor_activation[i].elements.argmax(axis=0) for i in range(len(out_tensor_activation))])"
   ]
  },
  {
   "cell_type": "code",
   "execution_count": 16,
   "metadata": {},
   "outputs": [
    {
     "data": {
      "text/plain": [
       "499762.0"
      ]
     },
     "execution_count": 16,
     "metadata": {},
     "output_type": "execute_result"
    }
   ],
   "source": [
    "mean_squared_error(train_labels, prediction=prediction)"
   ]
  }
 ],
 "metadata": {
  "kernelspec": {
   "display_name": "pnn-nc5Lufp7-py3.11",
   "language": "python",
   "name": "python3"
  },
  "language_info": {
   "codemirror_mode": {
    "name": "ipython",
    "version": 3
   },
   "file_extension": ".py",
   "mimetype": "text/x-python",
   "name": "python",
   "nbconvert_exporter": "python",
   "pygments_lexer": "ipython3",
   "version": "3.11.7"
  }
 },
 "nbformat": 4,
 "nbformat_minor": 2
}
