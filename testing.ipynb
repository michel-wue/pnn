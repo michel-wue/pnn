{
 "cells": [
  {
   "cell_type": "code",
   "execution_count": 1,
   "metadata": {},
   "outputs": [],
   "source": [
    "%load_ext autoreload\n",
    "%autoreload 2"
   ]
  },
  {
   "cell_type": "code",
   "execution_count": 2,
   "metadata": {},
   "outputs": [],
   "source": [
    "from pnn.layer.input import InputLayer\n",
    "from pnn.tensor import Tensor\n",
    "from pnn.layer.fully_connected import FullyConnected\n",
    "from pnn.layer.convolution import Conv2DLayer\n",
    "from pnn.layer.pooling import Pooling2DLayer\n",
    "from pnn.layer.flatten import FlattenLayer\n",
    "from pnn.layer.activation import ActivationLayer, sigmoid, soft_max, relu\n",
    "from pnn.layer.loss import LossLayer, mean_squared_error, cross_entropy\n",
    "from pnn.network import Network\n",
    "from pnn.trainer import Trainer, sgd\n",
    "from pnn.shape import Shape\n",
    "import numpy as np \n",
    "import matplotlib.pyplot as plt\n",
    "from tqdm import tqdm\n",
    "from torchvision.datasets import MNIST"
   ]
  },
  {
   "cell_type": "code",
   "execution_count": 18,
   "metadata": {},
   "outputs": [],
   "source": [
    "in_shape=Shape((4, 3, 2))\n",
    "out_shape=Shape((3, 2, 2))\n",
    "kernel_size=Shape((2, 2))\n",
    "num_filters=2\n",
    "\n",
    "weights = Tensor(\n",
    "            elements=np.array(\n",
    "                [[[ [ 0.1, 0.37],\n",
    "                    [ 0.7, 0.9 ]],\n",
    "\n",
    "                    [[ 0.3, 0.32],\n",
    "                    [ 0.9, 0.2 ]]],\n",
    "\n",
    "\n",
    "                    [[[-0.2, -0.9 ],\n",
    "                    [ 0.6, 0.3 ]],\n",
    "\n",
    "                    [[ 0.4, 0.17],\n",
    "                    [-1.1, -0.7 ]]]]\n",
    "            )\n",
    "        )\n",
    "\n",
    "tensor = Tensor(\n",
    "            elements=np.array(\n",
    "                [[  [ 0.1, 0.9 ],\n",
    "                    [ 1.2, 1.1 ],\n",
    "                    [ 0.01, 3.2 ]],\n",
    "\n",
    "                    [[-0.2, 0.3 ],\n",
    "                    [ 1.4, 0.7 ],\n",
    "                    [ 0.2, 1.7 ]],\n",
    "\n",
    "                    [[ 0.5, 0.5 ],\n",
    "                    [ 1.6, 2.2 ],\n",
    "                    [-0.3, 6.3 ]],\n",
    "\n",
    "                    [[ 0.6, 0.65],\n",
    "                    [ 2.2, 4.4 ],\n",
    "                    [ 4., 8.2 ]]]\n",
    "            )\n",
    "        )\n",
    "\n",
    "out_tensors = [Tensor(elements=np.zeros((3, 2, 2), dtype=np.float64))]"
   ]
  },
  {
   "cell_type": "code",
   "execution_count": 104,
   "metadata": {},
   "outputs": [],
   "source": [
    "for x in range(len(tensor.elements) - kernel_size.shape[0] + 1):\n",
    "    # print(len(tensor.elements))\n",
    "    # print(len(tensor.elements) - kernel_size.shape[0] + 1)\n",
    "    for y in range(len(tensor.elements[0]) - kernel_size.shape[1] + 1):\n",
    "        for z in range(num_filters):\n",
    "            # print(f'{x}, {y}, {z}')\n",
    "            # out_tensors[i].elements[x][y][z] = np.sum([np.multiply(tensor.elements[x + i][y + j][a], weights.elements[i][j][a][z]) \n",
    "            out_tensors[0].elements[x][y][z] = np.sum([np.multiply(tensor.elements[x + i][y + j][a], weights.elements[i][j][a][z]) \n",
    "                                                        for j in range(kernel_size.shape[0]) \n",
    "                                                        for i in range(kernel_size.shape[1]) \n",
    "                                                        for a in range(in_shape.shape[2])])\n",
    "            \n",
    "            l1 = [tensor.elements[x + i][y + j][a]\n",
    "                                                        for j in range(kernel_size.shape[0]) \n",
    "                                                        for i in range(kernel_size.shape[1]) \n",
    "                                                        for a in range(in_shape.shape[2])]\n",
    "            l2 = [weights.elements[i][j][a][z]\n",
    "                                                        for j in range(kernel_size.shape[0]) \n",
    "                                                        for i in range(kernel_size.shape[1]) \n",
    "                                                        for a in range(in_shape.shape[2])]\n",
    "            \n",
    "            l3 = tensor.elements[x: x + kernel_size.shape[1]][y: y + kernel_size.shape[0]][0: in_shape.shape[2]]\n",
    "            l4 = weights.elements[0: kernel_size.shape[1]][0: kernel_size.shape[0]][0: in_shape.shape[2]][z]\n",
    "            # out_tensors[i].elements[x][y][z] = np.sum(np.multiply(tensor.elements[x: x + kernel_size.shape[1]][y: y + kernel_size.shape[0]][0: in_shape.shape[2]],\n",
    "            #                                           weights.elements[0: kernel_size.shape[1]][0: kernel_size.shape[0]][0: in_shape.shape[2]][z]))\n"
   ]
  },
  {
   "cell_type": "code",
   "execution_count": 128,
   "metadata": {},
   "outputs": [],
   "source": [
    "a1 = np.array([[1,1,1, 1], [1,1,1,1 ]])\n",
    "a2 = np.array([[2,2], [2,2]])"
   ]
  },
  {
   "cell_type": "code",
   "execution_count": 133,
   "metadata": {},
   "outputs": [
    {
     "data": {
      "text/plain": [
       "array([[2, 2],\n",
       "       [2, 2]])"
      ]
     },
     "execution_count": 133,
     "metadata": {},
     "output_type": "execute_result"
    }
   ],
   "source": [
    "a1[0:2, 1:3] "
   ]
  },
  {
   "cell_type": "code",
   "execution_count": 130,
   "metadata": {},
   "outputs": [
    {
     "data": {
      "text/plain": [
       "array([[1, 2, 2, 1],\n",
       "       [1, 2, 2, 1]])"
      ]
     },
     "execution_count": 130,
     "metadata": {},
     "output_type": "execute_result"
    }
   ],
   "source": [
    "a1"
   ]
  },
  {
   "cell_type": "markdown",
   "metadata": {},
   "source": [
    "# Items"
   ]
  },
  {
   "cell_type": "code",
   "execution_count": 110,
   "metadata": {},
   "outputs": [],
   "source": [
    "train_data = MNIST(\n",
    "    root = 'data',\n",
    "    train = True,\n",
    "    download = True                                    \n",
    ")\n",
    "train_images = np.divide(np.array(train_data.data), np.max(np.array(train_data.data)))\n",
    "train_labels = np.array(train_data.targets)\n",
    "\n",
    "test_data = MNIST(\n",
    "    root = 'data', \n",
    "    train = False, \n",
    "    download = True  \n",
    ")\n",
    "test_images = np.divide(np.array(test_data.data), np.max(np.array(test_data.data)))\n",
    "test_labels = np.array(test_data.targets)\n",
    "\n",
    "train_images = train_images[0:10000]\n",
    "train_labels = train_labels[0:10000]\n",
    "test_images = test_images[0:1000]\n",
    "test_labels = test_labels[0:1000]"
   ]
  },
  {
   "cell_type": "code",
   "execution_count": 106,
   "metadata": {},
   "outputs": [
    {
     "data": {
      "text/plain": [
       "array([5, 0, 4, 1, 9, 2, 1, 3, 1, 4, 3, 5, 3, 6, 1, 7, 2, 8, 6, 9, 4, 0,\n",
       "       9, 1, 1, 2, 4, 3, 2, 7, 3, 8, 6, 9, 0, 5, 6, 0, 7, 6, 1, 8, 7, 9,\n",
       "       3, 9, 8, 5, 9, 3, 3, 0, 7, 4, 9, 8, 0, 9, 4, 1, 4, 4, 6, 0, 4, 5,\n",
       "       6, 1, 0, 0, 1, 7, 1, 6, 3, 0, 2, 1, 1, 7, 9, 0, 2, 6, 7, 8, 3, 9,\n",
       "       0, 4, 6, 7, 4, 6, 8, 0, 7, 8, 3, 1, 5, 7, 1, 7, 1, 1, 6, 3, 0, 2,\n",
       "       9, 3, 1, 1, 0, 4, 9, 2, 0, 0, 2, 0, 2, 7, 1, 8, 6, 4, 1, 6, 3, 4,\n",
       "       5, 9, 1, 3, 3, 8, 5, 4, 7, 7, 4, 2, 8, 5, 8, 6, 7, 3, 4, 6, 1, 9,\n",
       "       9, 6, 0, 3, 7, 2, 8, 2, 9, 4, 4, 6, 4, 9, 7, 0, 9, 2, 9, 5, 1, 5,\n",
       "       9, 1, 2, 3, 2, 3, 5, 9, 1, 7, 6, 2, 8, 2, 2, 5, 0, 7, 4, 9, 7, 8,\n",
       "       3, 2, 1, 1, 8, 3, 6, 1, 0, 3, 1, 0, 0, 1, 7, 2, 7, 3, 0, 4, 6, 5,\n",
       "       2, 6, 4, 7, 1, 8, 9, 9, 3, 0, 7, 1, 0, 2, 0, 3, 5, 4, 6, 5, 8, 6,\n",
       "       3, 7, 5, 8, 0, 9, 1, 0, 3, 1, 2, 2, 3, 3, 6, 4, 7, 5, 0, 6, 2, 7,\n",
       "       9, 8, 5, 9, 2, 1, 1, 4, 4, 5, 6, 4, 1, 2, 5, 3, 9, 3, 9, 0, 5, 9,\n",
       "       6, 5, 7, 4, 1, 3, 4, 0, 4, 8, 0, 4, 3, 6, 8, 7, 6, 0, 9, 7, 5, 7,\n",
       "       2, 1, 1, 6, 8, 9, 4, 1, 5, 2, 2, 9, 0, 3, 9, 6, 7, 2, 0, 3, 5, 4,\n",
       "       3, 6, 5, 8, 9, 5, 4, 7, 4, 2, 7, 3, 4, 8, 9, 1, 9, 2, 8, 7, 9, 1,\n",
       "       8, 7, 4, 1, 3, 1, 1, 0, 2, 3, 9, 4, 9, 2, 1, 6, 8, 4, 7, 7, 4, 4,\n",
       "       9, 2, 5, 7, 2, 4, 4, 2, 1, 9, 7, 2, 8, 7, 6, 9, 2, 2, 3, 8, 1, 6,\n",
       "       5, 1, 1, 0, 2, 6, 4, 5, 8, 3, 1, 5, 1, 9, 2, 7, 4, 4, 4, 8, 1, 5,\n",
       "       8, 9, 5, 6, 7, 9, 9, 3, 7, 0, 9, 0, 6, 6, 2, 3, 9, 0, 7, 5, 4, 8,\n",
       "       0, 9, 4, 1, 2, 8, 7, 1, 2, 6, 1, 0, 3, 0, 1, 1, 8, 2, 0, 3, 9, 4,\n",
       "       0, 5, 0, 6, 1, 7, 7, 8, 1, 9, 2, 0, 5, 1, 2, 2, 7, 3, 5, 4, 9, 7,\n",
       "       1, 8, 3, 9, 6, 0, 3, 1, 1, 2, 6, 3, 5, 7, 6, 8, 3, 9, 5, 8, 5, 7,\n",
       "       6, 1, 1, 3, 1, 7, 5, 5, 5, 2, 5, 8, 7, 0, 9, 7, 7, 5, 0, 9, 0, 0,\n",
       "       8, 9, 2, 4, 8, 1, 6, 1, 6, 5, 1, 8, 3, 4, 0, 5, 5, 8, 3, 6, 2, 3,\n",
       "       9, 2, 1, 1, 5, 2, 1, 3, 2, 8, 7, 3, 7, 2, 4, 6, 9, 7, 2, 4, 2, 8,\n",
       "       1, 1, 3, 8, 4, 0, 6, 5, 9, 3, 0, 9, 2, 4, 7, 1, 2, 9, 4, 2, 6, 1,\n",
       "       8, 9, 0, 6, 6, 7, 9, 9, 8, 0, 1, 4, 4, 6, 7, 1, 5, 7, 0, 3, 5, 8,\n",
       "       4, 7, 1, 2, 5, 9, 5, 6, 7, 5, 9, 8, 8, 3, 6, 9, 7, 0, 7, 5, 7, 1,\n",
       "       1, 0, 7, 9, 2, 3, 7, 3, 2, 4, 1, 6, 2, 7, 5, 5, 7, 4, 0, 2, 6, 3,\n",
       "       6, 4, 0, 4, 2, 6, 0, 0, 0, 0, 3, 1, 6, 2, 2, 3, 1, 4, 1, 5, 4, 6,\n",
       "       4, 7, 2, 8, 7, 9, 2, 0, 5, 1, 4, 2, 8, 3, 2, 4, 1, 5, 4, 6, 0, 7,\n",
       "       9, 8, 4, 9, 8, 0, 1, 1, 0, 2, 2, 3, 2, 4, 4, 5, 8, 6, 5, 7, 7, 8,\n",
       "       8, 9, 7, 4, 7, 3, 2, 0, 8, 6, 8, 6, 1, 6, 8, 9, 4, 0, 9, 0, 4, 1,\n",
       "       5, 4, 7, 5, 3, 7, 4, 9, 8, 5, 8, 6, 3, 8, 6, 9, 9, 1, 8, 3, 5, 8,\n",
       "       6, 5, 9, 7, 2, 5, 0, 8, 5, 1, 1, 0, 9, 1, 8, 6, 7, 0, 9, 3, 0, 8,\n",
       "       8, 9, 6, 7, 8, 4, 7, 5, 9, 2, 6, 7, 4, 5, 9, 2, 3, 1, 6, 3, 9, 2,\n",
       "       2, 5, 6, 8, 0, 7, 7, 1, 9, 8, 7, 0, 9, 9, 4, 6, 2, 8, 5, 1, 4, 1,\n",
       "       5, 5, 1, 7, 3, 6, 4, 3, 2, 5, 6, 4, 4, 0, 4, 4, 6, 7, 2, 4, 3, 3,\n",
       "       8, 0, 0, 3, 2, 2, 9, 8, 2, 3, 7, 0, 1, 1, 0, 2, 3, 3, 8, 4, 3, 5,\n",
       "       7, 6, 4, 7, 7, 8, 5, 9, 7, 0, 3, 1, 6, 2, 4, 3, 4, 4, 7, 5, 9, 6,\n",
       "       9, 0, 7, 1, 4, 2, 7, 3, 6, 7, 5, 8, 4, 5, 5, 2, 7, 1, 1, 5, 6, 8,\n",
       "       5, 8, 4, 0, 7, 9, 9, 2, 9, 7, 7, 8, 7, 4, 2, 6, 9, 1, 7, 0, 6, 4,\n",
       "       2, 5, 7, 0, 7, 1, 0, 3, 7, 6, 5, 0, 6, 1, 5, 1, 7, 8, 5, 0, 3, 4,\n",
       "       7, 7, 5, 7, 8, 6, 9, 3, 8, 6, 1, 0, 9, 7, 1, 3, 0, 5, 6, 4, 4, 2,\n",
       "       4, 4, 3, 1, 7, 7, 6, 0, 3, 6], dtype=int64)"
      ]
     },
     "execution_count": 106,
     "metadata": {},
     "output_type": "execute_result"
    }
   ],
   "source": [
    "train_labels"
   ]
  },
  {
   "cell_type": "markdown",
   "metadata": {},
   "source": [
    "# Convolution"
   ]
  },
  {
   "cell_type": "code",
   "execution_count": 143,
   "metadata": {},
   "outputs": [],
   "source": [
    "conv1 = Conv2DLayer(kernel_size=Shape((3,3)), num_filters=1)\n",
    "maxpool1 = Pooling2DLayer(kernel_size=Shape((2,2)), pooling_type='max')\n",
    "flatten = FlattenLayer()\n",
    "# fully_connected_1 = FullyConnected(out_shape=Shape((784,)), initialization_technique='sigmoid')\n",
    "# activation_layer_sigmoid1 = ActivationLayer(sigmoid)\n",
    "fully_connected_2 = FullyConnected(out_shape=Shape((169,)), initialization_technique='sigmoid')\n",
    "activation_layer_sigmoid2 = ActivationLayer(sigmoid)\n",
    "# fully_connected_3 = FullyConnected(out_shape=Shape((49,)), initialization_technique='sigmoid')\n",
    "# activation_layer_sigmoid3 = ActivationLayer(sigmoid)\n",
    "fully_connected_4 = FullyConnected(out_shape=Shape((10,)), initialization_technique='softmax') \n",
    "activation_layer_soft_max = ActivationLayer(soft_max)\n",
    "loss_layer = LossLayer(cross_entropy)\n",
    "layerlist = [conv1,\n",
    "             maxpool1,\n",
    "             flatten,\n",
    "             #fully_connected_1, activation_layer_sigmoid1, \n",
    "             fully_connected_2, activation_layer_sigmoid2,\n",
    "            #  fully_connected_3, activation_layer_sigmoid3,\n",
    "             fully_connected_4, activation_layer_soft_max, loss_layer]\n",
    "network = Network(layerlist, type = 'convolutional')\n",
    "\n",
    "sgd_trainer = Trainer(\n",
    "    learning_rate=0.03,\n",
    "    amount_epochs=1,\n",
    "    update_mechanism=sgd,\n",
    "    #shuffle=False,\n",
    "    batch_size=1)"
   ]
  },
  {
   "cell_type": "code",
   "execution_count": 144,
   "metadata": {},
   "outputs": [
    {
     "name": "stderr",
     "output_type": "stream",
     "text": [
      "100%|██████████| 10000/10000 [04:12<00:00, 39.66it/s]"
     ]
    },
    {
     "name": "stdout",
     "output_type": "stream",
     "text": [
      "epoche: 0, loss: 0.5133, time: 252.1889s\n"
     ]
    },
    {
     "name": "stderr",
     "output_type": "stream",
     "text": [
      "\n"
     ]
    }
   ],
   "source": [
    "sgd_trainer.optimize(network=network, data=train_images, labels=train_labels)\n"
   ]
  },
  {
   "cell_type": "markdown",
   "metadata": {},
   "source": [
    "# Trainer"
   ]
  },
  {
   "cell_type": "code",
   "execution_count": 11,
   "metadata": {},
   "outputs": [],
   "source": [
    "# fully_connected_1 = FullyConnected(out_shape=Shape((784,)), initialization_technique='sigmoid')\n",
    "# activation_layer_sigmoid1 = ActivationLayer(sigmoid)\n",
    "fully_connected_2 = FullyConnected(out_shape=Shape((196,)), initialization_technique='sigmoid')\n",
    "activation_layer_sigmoid2 = ActivationLayer(sigmoid)\n",
    "# fully_connected_3 = FullyConnected(out_shape=Shape((49,)), initialization_technique='sigmoid')\n",
    "# activation_layer_sigmoid3 = ActivationLayer(sigmoid)\n",
    "fully_connected_4 = FullyConnected(out_shape=Shape((10,)), initialization_technique='softmax') \n",
    "activation_layer_soft_max = ActivationLayer(soft_max)\n",
    "loss_layer = LossLayer(cross_entropy)\n",
    "layerlist = [#fully_connected_1, activation_layer_sigmoid1, \n",
    "             fully_connected_2, activation_layer_sigmoid2,\n",
    "            #  fully_connected_3, activation_layer_sigmoid3,\n",
    "             fully_connected_4, activation_layer_soft_max, loss_layer]\n",
    "network = Network(layerlist)\n",
    "\n",
    "sgd_trainer = Trainer(\n",
    "    learning_rate=0.03,\n",
    "    amount_epochs=1,\n",
    "    update_mechanism=sgd,\n",
    "    batch_size=1,\n",
    "    shuffle=False)"
   ]
  },
  {
   "cell_type": "code",
   "execution_count": 12,
   "metadata": {},
   "outputs": [
    {
     "name": "stderr",
     "output_type": "stream",
     "text": [
      "100%|██████████| 100/100 [00:00<00:00, 780.59it/s]"
     ]
    },
    {
     "name": "stdout",
     "output_type": "stream",
     "text": [
      "(196,)\n",
      "(196,)\n",
      "(196,)\n",
      "(196,)\n",
      "(196,)\n",
      "(196,)\n",
      "(10,)\n",
      "(10,)\n",
      "(10,)\n",
      "(10,)\n",
      "(10,)\n",
      "(10,)\n",
      "epoche: 0, loss: 2.6788, time: 0.1301s\n"
     ]
    },
    {
     "name": "stderr",
     "output_type": "stream",
     "text": [
      "\n"
     ]
    }
   ],
   "source": [
    "sgd_trainer.optimize(network=network, data=train_images, labels=train_labels)"
   ]
  },
  {
   "cell_type": "code",
   "execution_count": 32,
   "metadata": {},
   "outputs": [
    {
     "data": {
      "text/plain": [
       "array([0., 0., 0., 0., 0., 0., 0., 0., 1., 0.])"
      ]
     },
     "execution_count": 32,
     "metadata": {},
     "output_type": "execute_result"
    }
   ],
   "source": [
    "network.labels[0].elements"
   ]
  },
  {
   "cell_type": "markdown",
   "metadata": {},
   "source": [
    "# Accuracy"
   ]
  },
  {
   "cell_type": "code",
   "execution_count": 7,
   "metadata": {},
   "outputs": [
    {
     "data": {
      "text/plain": [
       "array([0, 0, 0, 0, 0, 0, 4, 4, 0, 0, 0, 0, 0, 0, 0, 0, 0, 0, 0, 4, 0, 4,\n",
       "       0, 0, 0, 0, 0, 4, 0, 0, 0, 0, 0, 0, 0, 0, 0, 0, 0, 0, 0, 0, 4, 0,\n",
       "       0, 0, 4, 0, 4, 0, 4, 0, 0, 0, 0, 0, 0, 0, 0, 0, 0, 0, 4, 0, 0, 0,\n",
       "       0, 0, 0, 0, 0, 0, 0, 0, 0, 0, 0, 0, 0, 0, 4, 4, 0, 0, 4, 4, 0, 0,\n",
       "       4, 0, 0, 4, 0, 0, 0, 0, 0, 0, 0, 0], dtype=int64)"
      ]
     },
     "execution_count": 7,
     "metadata": {},
     "output_type": "execute_result"
    }
   ],
   "source": [
    "prediction"
   ]
  },
  {
   "cell_type": "code",
   "execution_count": 109,
   "metadata": {},
   "outputs": [
    {
     "name": "stdout",
     "output_type": "stream",
     "text": [
      "0.654\n"
     ]
    }
   ],
   "source": [
    "prediction = network.predict(test_images)\n",
    "avg_time = np.round(np.average(sgd_trainer.parameters['time']))\n",
    "prediction_acc = sum(prediction == test_labels)/len(test_labels)\n",
    "print(prediction_acc)"
   ]
  },
  {
   "cell_type": "code",
   "execution_count": 37,
   "metadata": {},
   "outputs": [
    {
     "data": {
      "image/png": "[encoded data removed]",
      "text/plain": [
       "<Figure size 640x480 with 1 Axes>"
      ]
     },
     "metadata": {},
     "output_type": "display_data"
    }
   ],
   "source": [
    "plt.plot(sgd_trainer.parameters['loss'])\n",
    "plt.ylabel('loss')\n",
    "plt.xlabel('epochs')\n",
    "plt.text(max(sgd_trainer.parameters['epoche']), max(sgd_trainer.parameters['loss']), f'avg_training_time: {avg_time} \\n accuracy: {prediction_acc}', fontsize=12, color='black', ha='right', va='top')\n",
    "plt.title('Neural Network')\n",
    "plt.savefig('Neural Network')\n",
    "plt.show()"
   ]
  },
  {
   "cell_type": "markdown",
   "metadata": {},
   "source": [
    "# Save and load"
   ]
  },
  {
   "cell_type": "code",
   "execution_count": 8,
   "metadata": {},
   "outputs": [],
   "source": [
    "network.save_network('./networks/neural_network_2_layer')"
   ]
  },
  {
   "cell_type": "code",
   "execution_count": 32,
   "metadata": {},
   "outputs": [],
   "source": [
    "n = Network.load_network('./networks/neural_network')"
   ]
  },
  {
   "cell_type": "code",
   "execution_count": 30,
   "metadata": {},
   "outputs": [
    {
     "name": "stdout",
     "output_type": "stream",
     "text": [
      "0.9519\n"
     ]
    }
   ],
   "source": [
    "prediction = n.predict(test_images)\n",
    "print(sum(prediction == test_labels)/len(test_labels))"
   ]
  },
  {
   "cell_type": "markdown",
   "metadata": {},
   "source": [
    "# Network"
   ]
  },
  {
   "cell_type": "code",
   "execution_count": 67,
   "metadata": {},
   "outputs": [],
   "source": [
    "fully_connected_1 = FullyConnected(out_shape=Shape((15,)), initialization_technique='sigmoid')\n",
    "activation_layer_sigmoid = ActivationLayer(sigmoid)\n",
    "fully_connected_2 = FullyConnected(out_shape=Shape((10,)), initialization_technique='softmax') \n",
    "activation_layer_soft_max = ActivationLayer(soft_max)\n",
    "loss_layer = LossLayer(mean_squared_error)\n",
    "layerlist = [fully_connected_1, activation_layer_sigmoid, fully_connected_2, activation_layer_soft_max, loss_layer]\n",
    "network = Network(layerlist)"
   ]
  },
  {
   "cell_type": "code",
   "execution_count": 43,
   "metadata": {},
   "outputs": [
    {
     "data": {
      "text/plain": [
       "array([5, 0, 4, ..., 5, 6, 8], dtype=uint8)"
      ]
     },
     "execution_count": 43,
     "metadata": {},
     "output_type": "execute_result"
    }
   ],
   "source": [
    "train_labels"
   ]
  },
  {
   "cell_type": "code",
   "execution_count": 87,
   "metadata": {},
   "outputs": [
    {
     "data": {
      "text/plain": [
       "0.11209011367433079"
      ]
     },
     "execution_count": 87,
     "metadata": {},
     "output_type": "execute_result"
    }
   ],
   "source": [
    "output = network.forward(train_images, train_labels,unique_length=10)\n",
    "output"
   ]
  },
  {
   "cell_type": "code",
   "execution_count": 70,
   "metadata": {},
   "outputs": [
    {
     "data": {
      "text/plain": [
       "array([1.00000000e+00, 1.00000000e+00, 1.00000000e+00, 1.33377769e-74,\n",
       "       4.14081228e-05, 1.00000000e+00, 1.00000000e+00, 1.00000000e+00,\n",
       "       1.00000000e+00, 1.00000000e+00, 3.45260849e-25, 1.00000000e+00,\n",
       "       1.00000000e+00, 9.99973057e-01, 9.99999372e-01])"
      ]
     },
     "execution_count": 70,
     "metadata": {},
     "output_type": "execute_result"
    }
   ],
   "source": [
    "network.tensorlist[2][0].elements"
   ]
  },
  {
   "cell_type": "code",
   "execution_count": 71,
   "metadata": {},
   "outputs": [],
   "source": [
    "network.backprop()"
   ]
  },
  {
   "cell_type": "code",
   "execution_count": 74,
   "metadata": {},
   "outputs": [
    {
     "data": {
      "text/plain": [
       "array([  27.69562386,  171.75035953,  313.72672599, -170.10328159,\n",
       "        -10.09199209,   87.46834609,   94.59948139,  154.94512526,\n",
       "        181.95918689,  251.6944964 ,  -56.3254973 ,  199.59030414,\n",
       "        181.73033401,   10.52174898,   14.28127379])"
      ]
     },
     "execution_count": 74,
     "metadata": {},
     "output_type": "execute_result"
    }
   ],
   "source": [
    "network.tensorlist[1][0].elements"
   ]
  },
  {
   "cell_type": "code",
   "execution_count": 86,
   "metadata": {},
   "outputs": [
    {
     "name": "stdout",
     "output_type": "stream",
     "text": [
      "[ 1.65874242e-14  0.00000000e+00  0.00000000e+00 -4.16890222e-77\n",
      "  3.36041250e-07  0.00000000e+00  0.00000000e+00  0.00000000e+00\n",
      "  0.00000000e+00  0.00000000e+00  1.61056219e-27  0.00000000e+00\n",
      "  0.00000000e+00  8.18070301e-07  3.02447427e-09]\n",
      "[ 9.95245452e-14  0.00000000e+00  0.00000000e+00 -2.50134133e-76\n",
      "  2.01624750e-06  0.00000000e+00  0.00000000e+00  0.00000000e+00\n",
      "  0.00000000e+00  0.00000000e+00  9.66337314e-27  0.00000000e+00\n",
      "  0.00000000e+00  4.90842181e-06  1.81468456e-08]\n",
      "[ 9.95245452e-14  0.00000000e+00  0.00000000e+00 -2.50134133e-76\n",
      "  2.01624750e-06  0.00000000e+00  0.00000000e+00  0.00000000e+00\n",
      "  0.00000000e+00  0.00000000e+00  9.66337314e-27  0.00000000e+00\n",
      "  0.00000000e+00  4.90842181e-06  1.81468456e-08]\n",
      "[ 9.95245452e-14  0.00000000e+00  0.00000000e+00 -2.50134133e-76\n",
      "  2.01624750e-06  0.00000000e+00  0.00000000e+00  0.00000000e+00\n",
      "  0.00000000e+00  0.00000000e+00  9.66337314e-27  0.00000000e+00\n",
      "  0.00000000e+00  4.90842181e-06  1.81468456e-08]\n",
      "[ 6.96671817e-13  0.00000000e+00  0.00000000e+00 -1.75093893e-75\n",
      "  1.41137325e-05  0.00000000e+00  0.00000000e+00  0.00000000e+00\n",
      "  0.00000000e+00  0.00000000e+00  6.76436120e-26  0.00000000e+00\n",
      "  0.00000000e+00  3.43589526e-05  1.27027919e-07]\n",
      "[ 7.51963231e-13  0.00000000e+00  0.00000000e+00 -1.88990234e-75\n",
      "  1.52338700e-05  0.00000000e+00  0.00000000e+00  0.00000000e+00\n",
      "  0.00000000e+00  0.00000000e+00  7.30121526e-26  0.00000000e+00\n",
      "  0.00000000e+00  3.70858536e-05  1.37109500e-07]\n",
      "[ 9.67599745e-13  0.00000000e+00  0.00000000e+00 -2.43185963e-75\n",
      "  1.96024062e-05  0.00000000e+00  0.00000000e+00  0.00000000e+00\n",
      "  0.00000000e+00  0.00000000e+00  9.39494611e-26  0.00000000e+00\n",
      "  0.00000000e+00  4.77207676e-05  1.76427666e-07]\n",
      "[ 1.43757676e-13  0.00000000e+00  0.00000000e+00 -3.61304859e-76\n",
      "  2.91235750e-06  0.00000000e+00  0.00000000e+00  0.00000000e+00\n",
      "  0.00000000e+00  0.00000000e+00  1.39582056e-26  0.00000000e+00\n",
      "  0.00000000e+00  7.08994261e-06  2.62121103e-08]\n",
      "[ 9.17837473e-13  0.00000000e+00  0.00000000e+00 -2.30679256e-75\n",
      "  1.85942825e-05  0.00000000e+00  0.00000000e+00  0.00000000e+00\n",
      "  0.00000000e+00  0.00000000e+00  8.91177745e-26  0.00000000e+00\n",
      "  0.00000000e+00  4.52665567e-05  1.67354243e-07]\n",
      "[ 1.40993106e-12  0.00000000e+00  0.00000000e+00 -3.54356689e-75\n",
      "  2.85635062e-05  0.00000000e+00  0.00000000e+00  0.00000000e+00\n",
      "  0.00000000e+00  0.00000000e+00  1.36897786e-25  0.00000000e+00\n",
      "  0.00000000e+00  6.95359756e-05  2.57080313e-07]\n",
      "[ 1.36569793e-12  0.00000000e+00  0.00000000e+00 -3.43239616e-75\n",
      "  2.76673962e-05  0.00000000e+00  0.00000000e+00  0.00000000e+00\n",
      "  0.00000000e+00  0.00000000e+00  1.32602954e-25  0.00000000e+00\n",
      "  0.00000000e+00  6.73544548e-05  2.49015048e-07]\n",
      "[ 7.02200958e-13  0.00000000e+00  0.00000000e+00 -1.76483527e-75\n",
      "  1.42257462e-05  0.00000000e+00  0.00000000e+00  0.00000000e+00\n",
      "  0.00000000e+00  0.00000000e+00  6.81804660e-26  0.00000000e+00\n",
      "  0.00000000e+00  3.46316427e-05  1.28036077e-07]\n",
      "[ 1.65874242e-13  0.00000000e+00  0.00000000e+00 -4.16890222e-76\n",
      "  3.36041250e-06  0.00000000e+00  0.00000000e+00  0.00000000e+00\n",
      "  0.00000000e+00  0.00000000e+00  1.61056219e-26  0.00000000e+00\n",
      "  0.00000000e+00  8.18070301e-06  3.02447427e-08]\n",
      "[ 1.99049090e-13  0.00000000e+00  0.00000000e+00 -5.00268266e-76\n",
      "  4.03249500e-06  0.00000000e+00  0.00000000e+00  0.00000000e+00\n",
      "  0.00000000e+00  0.00000000e+00  1.93267463e-26  0.00000000e+00\n",
      "  0.00000000e+00  9.81684361e-06  3.62936912e-08]\n",
      "[ 5.19739292e-13  0.00000000e+00  0.00000000e+00 -1.30625603e-75\n",
      "  1.05292925e-05  0.00000000e+00  0.00000000e+00  0.00000000e+00\n",
      "  0.00000000e+00  0.00000000e+00  5.04642819e-26  0.00000000e+00\n",
      "  0.00000000e+00  2.56328694e-05  9.47668605e-08]\n",
      "[ 8.51487776e-13  0.00000000e+00  0.00000000e+00 -2.14003647e-75\n",
      "  1.72501175e-05  0.00000000e+00  0.00000000e+00  0.00000000e+00\n",
      "  0.00000000e+00  0.00000000e+00  8.26755257e-26  0.00000000e+00\n",
      "  0.00000000e+00  4.19942755e-05  1.55256346e-07]\n",
      "[ 9.39954038e-13  0.00000000e+00  0.00000000e+00 -2.36237792e-75\n",
      "  1.90423375e-05  0.00000000e+00  0.00000000e+00  0.00000000e+00\n",
      "  0.00000000e+00  0.00000000e+00  9.12651907e-26  0.00000000e+00\n",
      "  0.00000000e+00  4.63573171e-05  1.71386875e-07]\n",
      "[ 1.39887277e-12  0.00000000e+00  0.00000000e+00 -3.51577421e-75\n",
      "  2.83394787e-05  0.00000000e+00  0.00000000e+00  0.00000000e+00\n",
      "  0.00000000e+00  0.00000000e+00  1.35824078e-25  0.00000000e+00\n",
      "  0.00000000e+00  6.89905954e-05  2.55063997e-07]\n",
      "[ 1.39887277e-12  0.00000000e+00  0.00000000e+00 -3.51577421e-75\n",
      "  2.83394787e-05  0.00000000e+00  0.00000000e+00  0.00000000e+00\n",
      "  0.00000000e+00  0.00000000e+00  1.35824078e-25  0.00000000e+00\n",
      "  0.00000000e+00  6.89905954e-05  2.55063997e-07]\n",
      "[ 1.39887277e-12  0.00000000e+00  0.00000000e+00 -3.51577421e-75\n",
      "  2.83394787e-05  0.00000000e+00  0.00000000e+00  0.00000000e+00\n",
      "  0.00000000e+00  0.00000000e+00  1.35824078e-25  0.00000000e+00\n",
      "  0.00000000e+00  6.89905954e-05  2.55063997e-07]\n",
      "[ 1.39887277e-12  0.00000000e+00  0.00000000e+00 -3.51577421e-75\n",
      "  2.83394787e-05  0.00000000e+00  0.00000000e+00  0.00000000e+00\n",
      "  0.00000000e+00  0.00000000e+00  1.35824078e-25  0.00000000e+00\n",
      "  0.00000000e+00  6.89905954e-05  2.55063997e-07]\n",
      "[ 1.39887277e-12  0.00000000e+00  0.00000000e+00 -3.51577421e-75\n",
      "  2.83394787e-05  0.00000000e+00  0.00000000e+00  0.00000000e+00\n",
      "  0.00000000e+00  0.00000000e+00  1.35824078e-25  0.00000000e+00\n",
      "  0.00000000e+00  6.89905954e-05  2.55063997e-07]\n",
      "[ 1.24405682e-12  0.00000000e+00  0.00000000e+00 -3.12667667e-75\n",
      "  2.52030937e-05  0.00000000e+00  0.00000000e+00  0.00000000e+00\n",
      "  0.00000000e+00  0.00000000e+00  1.20792164e-25  0.00000000e+00\n",
      "  0.00000000e+00  6.13552726e-05  2.26835570e-07]\n",
      "[ 9.51012321e-13  0.00000000e+00  0.00000000e+00 -2.39017061e-75\n",
      "  1.92663650e-05  0.00000000e+00  0.00000000e+00  0.00000000e+00\n",
      "  0.00000000e+00  0.00000000e+00  9.23388989e-26  0.00000000e+00\n",
      "  0.00000000e+00  4.69026973e-05  1.73403191e-07]\n",
      "[ 1.39887277e-12  0.00000000e+00  0.00000000e+00 -3.51577421e-75\n",
      "  2.83394787e-05  0.00000000e+00  0.00000000e+00  0.00000000e+00\n",
      "  0.00000000e+00  0.00000000e+00  1.35824078e-25  0.00000000e+00\n",
      "  0.00000000e+00  6.89905954e-05  2.55063997e-07]\n",
      "[ 1.33805222e-12  0.00000000e+00  0.00000000e+00 -3.36291446e-75\n",
      "  2.71073275e-05  0.00000000e+00  0.00000000e+00  0.00000000e+00\n",
      "  0.00000000e+00  0.00000000e+00  1.29918683e-25  0.00000000e+00\n",
      "  0.00000000e+00  6.59910043e-05  2.43974258e-07]\n",
      "[ 1.07818257e-12  0.00000000e+00  0.00000000e+00 -2.70978644e-75\n",
      "  2.18426812e-05  0.00000000e+00  0.00000000e+00  0.00000000e+00\n",
      "  0.00000000e+00  0.00000000e+00  1.04686542e-25  0.00000000e+00\n",
      "  0.00000000e+00  5.31745696e-05  1.96590828e-07]\n",
      "[ 3.53865050e-13  0.00000000e+00  0.00000000e+00 -8.89365807e-76\n",
      "  7.16887999e-06  0.00000000e+00  0.00000000e+00  0.00000000e+00\n",
      "  0.00000000e+00  0.00000000e+00  3.43586600e-26  0.00000000e+00\n",
      "  0.00000000e+00  1.74521664e-05  6.45221178e-08]\n",
      "[ 2.70927929e-13  0.00000000e+00  0.00000000e+00 -6.80920696e-76\n",
      "  5.48867374e-06  0.00000000e+00  0.00000000e+00  0.00000000e+00\n",
      "  0.00000000e+00  0.00000000e+00  2.63058491e-26  0.00000000e+00\n",
      "  0.00000000e+00  1.33618149e-05  4.93997464e-08]\n",
      "[ 1.31593565e-12  0.00000000e+00  0.00000000e+00 -3.30732909e-75\n",
      "  2.66592725e-05  0.00000000e+00  0.00000000e+00  0.00000000e+00\n",
      "  0.00000000e+00  0.00000000e+00  1.27771267e-25  0.00000000e+00\n",
      "  0.00000000e+00  6.49002439e-05  2.39941625e-07]\n",
      "[ 1.39887277e-12  0.00000000e+00  0.00000000e+00 -3.51577421e-75\n",
      "  2.83394787e-05  0.00000000e+00  0.00000000e+00  0.00000000e+00\n",
      "  0.00000000e+00  0.00000000e+00  1.35824078e-25  0.00000000e+00\n",
      "  0.00000000e+00  6.89905954e-05  2.55063997e-07]\n",
      "[ 1.39887277e-12  0.00000000e+00  0.00000000e+00 -3.51577421e-75\n",
      "  2.83394787e-05  0.00000000e+00  0.00000000e+00  0.00000000e+00\n",
      "  0.00000000e+00  0.00000000e+00  1.35824078e-25  0.00000000e+00\n",
      "  0.00000000e+00  6.89905954e-05  2.55063997e-07]\n",
      "[ 1.39887277e-12  0.00000000e+00  0.00000000e+00 -3.51577421e-75\n",
      "  2.83394787e-05  0.00000000e+00  0.00000000e+00  0.00000000e+00\n",
      "  0.00000000e+00  0.00000000e+00  1.35824078e-25  0.00000000e+00\n",
      "  0.00000000e+00  6.89905954e-05  2.55063997e-07]\n",
      "[ 1.39887277e-12  0.00000000e+00  0.00000000e+00 -3.51577421e-75\n",
      "  2.83394787e-05  0.00000000e+00  0.00000000e+00  0.00000000e+00\n",
      "  0.00000000e+00  0.00000000e+00  1.35824078e-25  0.00000000e+00\n",
      "  0.00000000e+00  6.89905954e-05  2.55063997e-07]\n",
      "[ 1.39887277e-12  0.00000000e+00  0.00000000e+00 -3.51577421e-75\n",
      "  2.83394787e-05  0.00000000e+00  0.00000000e+00  0.00000000e+00\n",
      "  0.00000000e+00  0.00000000e+00  1.35824078e-25  0.00000000e+00\n",
      "  0.00000000e+00  6.89905954e-05  2.55063997e-07]\n",
      "[ 1.39887277e-12  0.00000000e+00  0.00000000e+00 -3.51577421e-75\n",
      "  2.83394787e-05  0.00000000e+00  0.00000000e+00  0.00000000e+00\n",
      "  0.00000000e+00  0.00000000e+00  1.35824078e-25  0.00000000e+00\n",
      "  0.00000000e+00  6.89905954e-05  2.55063997e-07]\n",
      "[ 1.39887277e-12  0.00000000e+00  0.00000000e+00 -3.51577421e-75\n",
      "  2.83394787e-05  0.00000000e+00  0.00000000e+00  0.00000000e+00\n",
      "  0.00000000e+00  0.00000000e+00  1.35824078e-25  0.00000000e+00\n",
      "  0.00000000e+00  6.89905954e-05  2.55063997e-07]\n",
      "[ 1.39887277e-12  0.00000000e+00  0.00000000e+00 -3.51577421e-75\n",
      "  2.83394787e-05  0.00000000e+00  0.00000000e+00  0.00000000e+00\n",
      "  0.00000000e+00  0.00000000e+00  1.35824078e-25  0.00000000e+00\n",
      "  0.00000000e+00  6.89905954e-05  2.55063997e-07]\n",
      "[ 1.38781449e-12  0.00000000e+00  0.00000000e+00 -3.48798152e-75\n",
      "  2.81154512e-05  0.00000000e+00  0.00000000e+00  0.00000000e+00\n",
      "  0.00000000e+00  0.00000000e+00  1.34750370e-25  0.00000000e+00\n",
      "  0.00000000e+00  6.84452152e-05  2.53047681e-07]\n",
      "[ 5.14210150e-13  0.00000000e+00  0.00000000e+00 -1.29235969e-75\n",
      "  1.04172787e-05  0.00000000e+00  0.00000000e+00  0.00000000e+00\n",
      "  0.00000000e+00  0.00000000e+00  4.99274279e-26  0.00000000e+00\n",
      "  0.00000000e+00  2.53601793e-05  9.37587024e-08]\n",
      "[ 4.53389595e-13  0.00000000e+00  0.00000000e+00 -1.13949994e-75\n",
      "  9.18512749e-06  0.00000000e+00  0.00000000e+00  0.00000000e+00\n",
      "  0.00000000e+00  0.00000000e+00  4.40220332e-26  0.00000000e+00\n",
      "  0.00000000e+00  2.23605882e-05  8.26689634e-08]\n",
      "[ 4.53389595e-13  0.00000000e+00  0.00000000e+00 -1.13949994e-75\n",
      "  9.18512749e-06  0.00000000e+00  0.00000000e+00  0.00000000e+00\n",
      "  0.00000000e+00  0.00000000e+00  4.40220332e-26  0.00000000e+00\n",
      "  0.00000000e+00  2.23605882e-05  8.26689634e-08]\n",
      "[ 3.09631919e-13  0.00000000e+00  0.00000000e+00 -7.78195081e-76\n",
      "  6.27276999e-06  0.00000000e+00  0.00000000e+00  0.00000000e+00\n",
      "  0.00000000e+00  0.00000000e+00  3.00638275e-26  0.00000000e+00\n",
      "  0.00000000e+00  1.52706456e-05  5.64568530e-08]\n",
      "[ 2.15636515e-13  0.00000000e+00  0.00000000e+00 -5.41957289e-76\n",
      "  4.36853625e-06  0.00000000e+00  0.00000000e+00  0.00000000e+00\n",
      "  0.00000000e+00  0.00000000e+00  2.09373085e-26  0.00000000e+00\n",
      "  0.00000000e+00  1.06349139e-05  3.93181655e-08]\n",
      "[ 9.95245452e-14  0.00000000e+00  0.00000000e+00 -2.50134133e-76\n",
      "  2.01624750e-06  0.00000000e+00  0.00000000e+00  0.00000000e+00\n",
      "  0.00000000e+00  0.00000000e+00  9.66337314e-27  0.00000000e+00\n",
      "  0.00000000e+00  4.90842181e-06  1.81468456e-08]\n",
      "[ 1.21088197e-12  0.00000000e+00  0.00000000e+00 -3.04329862e-75\n",
      "  2.45310112e-05  0.00000000e+00  0.00000000e+00  0.00000000e+00\n",
      "  0.00000000e+00  0.00000000e+00  1.17571040e-25  0.00000000e+00\n",
      "  0.00000000e+00  5.97191320e-05  2.20786622e-07]\n",
      "[ 1.39887277e-12  0.00000000e+00  0.00000000e+00 -3.51577421e-75\n",
      "  2.83394787e-05  0.00000000e+00  0.00000000e+00  0.00000000e+00\n",
      "  0.00000000e+00  0.00000000e+00  1.35824078e-25  0.00000000e+00\n",
      "  0.00000000e+00  6.89905954e-05  2.55063997e-07]\n",
      "[ 1.39887277e-12  0.00000000e+00  0.00000000e+00 -3.51577421e-75\n",
      "  2.83394787e-05  0.00000000e+00  0.00000000e+00  0.00000000e+00\n",
      "  0.00000000e+00  0.00000000e+00  1.35824078e-25  0.00000000e+00\n",
      "  0.00000000e+00  6.89905954e-05  2.55063997e-07]\n",
      "[ 1.39887277e-12  0.00000000e+00  0.00000000e+00 -3.51577421e-75\n",
      "  2.83394787e-05  0.00000000e+00  0.00000000e+00  0.00000000e+00\n",
      "  0.00000000e+00  0.00000000e+00  1.35824078e-25  0.00000000e+00\n",
      "  0.00000000e+00  6.89905954e-05  2.55063997e-07]\n",
      "[ 1.39887277e-12  0.00000000e+00  0.00000000e+00 -3.51577421e-75\n",
      "  2.83394787e-05  0.00000000e+00  0.00000000e+00  0.00000000e+00\n",
      "  0.00000000e+00  0.00000000e+00  1.35824078e-25  0.00000000e+00\n",
      "  0.00000000e+00  6.89905954e-05  2.55063997e-07]\n",
      "[ 1.39887277e-12  0.00000000e+00  0.00000000e+00 -3.51577421e-75\n",
      "  2.83394787e-05  0.00000000e+00  0.00000000e+00  0.00000000e+00\n",
      "  0.00000000e+00  0.00000000e+00  1.35824078e-25  0.00000000e+00\n",
      "  0.00000000e+00  6.89905954e-05  2.55063997e-07]\n",
      "[ 1.09477000e-12  0.00000000e+00  0.00000000e+00 -2.75147547e-75\n",
      "  2.21787225e-05  0.00000000e+00  0.00000000e+00  0.00000000e+00\n",
      "  0.00000000e+00  0.00000000e+00  1.06297105e-25  0.00000000e+00\n",
      "  0.00000000e+00  5.39926399e-05  1.99615302e-07]\n",
      "[ 1.00630374e-12  0.00000000e+00  0.00000000e+00 -2.52913401e-75\n",
      "  2.03865025e-05  0.00000000e+00  0.00000000e+00  0.00000000e+00\n",
      "  0.00000000e+00  0.00000000e+00  9.77074395e-26  0.00000000e+00\n",
      "  0.00000000e+00  4.96295983e-05  1.83484772e-07]\n",
      "[ 1.36569793e-12  0.00000000e+00  0.00000000e+00 -3.43239616e-75\n",
      "  2.76673962e-05  0.00000000e+00  0.00000000e+00  0.00000000e+00\n",
      "  0.00000000e+00  0.00000000e+00  1.32602954e-25  0.00000000e+00\n",
      "  0.00000000e+00  6.73544548e-05  2.49015048e-07]\n",
      "[ 1.33252308e-12  0.00000000e+00  0.00000000e+00 -3.34901812e-75\n",
      "  2.69953137e-05  0.00000000e+00  0.00000000e+00  0.00000000e+00\n",
      "  0.00000000e+00  0.00000000e+00  1.29381829e-25  0.00000000e+00\n",
      "  0.00000000e+00  6.57183142e-05  2.42966100e-07]\n",
      "[ 4.42331312e-13  0.00000000e+00  0.00000000e+00 -1.11170726e-75\n",
      "  8.96109999e-06  0.00000000e+00  0.00000000e+00  0.00000000e+00\n",
      "  0.00000000e+00  0.00000000e+00  4.29483251e-26  0.00000000e+00\n",
      "  0.00000000e+00  2.18152080e-05  8.06526472e-08]\n",
      "[ 8.62546059e-13  0.00000000e+00  0.00000000e+00 -2.16782915e-75\n",
      "  1.74741450e-05  0.00000000e+00  0.00000000e+00  0.00000000e+00\n",
      "  0.00000000e+00  0.00000000e+00  8.37492339e-26  0.00000000e+00\n",
      "  0.00000000e+00  4.25396557e-05  1.57272662e-07]\n",
      "[ 5.91618130e-13  0.00000000e+00  0.00000000e+00 -1.48690846e-75\n",
      "  1.19854712e-05  0.00000000e+00  0.00000000e+00  0.00000000e+00\n",
      "  0.00000000e+00  0.00000000e+00  5.74433848e-26  0.00000000e+00\n",
      "  0.00000000e+00  2.91778407e-05  1.07872916e-07]\n",
      "[ 1.39887277e-12  0.00000000e+00  0.00000000e+00 -3.51577421e-75\n",
      "  2.83394787e-05  0.00000000e+00  0.00000000e+00  0.00000000e+00\n",
      "  0.00000000e+00  0.00000000e+00  1.35824078e-25  0.00000000e+00\n",
      "  0.00000000e+00  6.89905954e-05  2.55063997e-07]\n",
      "[ 1.39887277e-12  0.00000000e+00  0.00000000e+00 -3.51577421e-75\n",
      "  2.83394787e-05  0.00000000e+00  0.00000000e+00  0.00000000e+00\n",
      "  0.00000000e+00  0.00000000e+00  1.35824078e-25  0.00000000e+00\n",
      "  0.00000000e+00  6.89905954e-05  2.55063997e-07]\n",
      "[ 1.13347399e-12  0.00000000e+00  0.00000000e+00 -2.84874985e-75\n",
      "  2.29628187e-05  0.00000000e+00  0.00000000e+00  0.00000000e+00\n",
      "  0.00000000e+00  0.00000000e+00  1.10055083e-25  0.00000000e+00\n",
      "  0.00000000e+00  5.59014706e-05  2.06672408e-07]\n",
      "[ 6.08205554e-14  0.00000000e+00  0.00000000e+00 -1.52859748e-76\n",
      "  1.23215125e-06  0.00000000e+00  0.00000000e+00  0.00000000e+00\n",
      "  0.00000000e+00  0.00000000e+00  5.90539470e-27  0.00000000e+00\n",
      "  0.00000000e+00  2.99959110e-06  1.10897390e-08]\n",
      "[ 2.37753080e-13  0.00000000e+00  0.00000000e+00 -5.97542652e-76\n",
      "  4.81659125e-06  0.00000000e+00  0.00000000e+00  0.00000000e+00\n",
      "  0.00000000e+00  0.00000000e+00  2.30847247e-26  0.00000000e+00\n",
      "  0.00000000e+00  1.17256743e-05  4.33507979e-08]\n",
      "[ 8.51487776e-13  0.00000000e+00  0.00000000e+00 -2.14003647e-75\n",
      "  1.72501175e-05  0.00000000e+00  0.00000000e+00  0.00000000e+00\n",
      "  0.00000000e+00  0.00000000e+00  8.26755257e-26  0.00000000e+00\n",
      "  0.00000000e+00  4.19942755e-05  1.55256346e-07]\n",
      "[ 7.74079796e-14  0.00000000e+00  0.00000000e+00 -1.94548770e-76\n",
      "  1.56819250e-06  0.00000000e+00  0.00000000e+00  0.00000000e+00\n",
      "  0.00000000e+00  0.00000000e+00  7.51595688e-27  0.00000000e+00\n",
      "  0.00000000e+00  3.81766140e-06  1.41142133e-08]\n",
      "[ 5.52914140e-15  0.00000000e+00  0.00000000e+00 -1.38963407e-77\n",
      "  1.12013750e-07  0.00000000e+00  0.00000000e+00  0.00000000e+00\n",
      "  0.00000000e+00  0.00000000e+00  5.36854063e-28  0.00000000e+00\n",
      "  0.00000000e+00  2.72690100e-07  1.00815809e-09]\n",
      "[ 8.51487776e-13  0.00000000e+00  0.00000000e+00 -2.14003647e-75\n",
      "  1.72501175e-05  0.00000000e+00  0.00000000e+00  0.00000000e+00\n",
      "  0.00000000e+00  0.00000000e+00  8.26755257e-26  0.00000000e+00\n",
      "  0.00000000e+00  4.19942755e-05  1.55256346e-07]\n",
      "[ 1.39887277e-12  0.00000000e+00  0.00000000e+00 -3.51577421e-75\n",
      "  2.83394787e-05  0.00000000e+00  0.00000000e+00  0.00000000e+00\n",
      "  0.00000000e+00  0.00000000e+00  1.35824078e-25  0.00000000e+00\n",
      "  0.00000000e+00  6.89905954e-05  2.55063997e-07]\n",
      "[ 4.97622726e-13  0.00000000e+00  0.00000000e+00 -1.25067067e-75\n",
      "  1.00812375e-05  0.00000000e+00  0.00000000e+00  0.00000000e+00\n",
      "  0.00000000e+00  0.00000000e+00  4.83168657e-26  0.00000000e+00\n",
      "  0.00000000e+00  2.45421090e-05  9.07342281e-08]\n",
      "[ 7.68550655e-13  0.00000000e+00  0.00000000e+00 -1.93159136e-75\n",
      "  1.55699112e-05  0.00000000e+00  0.00000000e+00  0.00000000e+00\n",
      "  0.00000000e+00  0.00000000e+00  7.46227148e-26  0.00000000e+00\n",
      "  0.00000000e+00  3.79039239e-05  1.40133975e-07]\n",
      "[ 1.39887277e-12  0.00000000e+00  0.00000000e+00 -3.51577421e-75\n",
      "  2.83394787e-05  0.00000000e+00  0.00000000e+00  0.00000000e+00\n",
      "  0.00000000e+00  0.00000000e+00  1.35824078e-25  0.00000000e+00\n",
      "  0.00000000e+00  6.89905954e-05  2.55063997e-07]\n",
      "[ 1.05053687e-12  0.00000000e+00  0.00000000e+00 -2.64030474e-75\n",
      "  2.12826125e-05  0.00000000e+00  0.00000000e+00  0.00000000e+00\n",
      "  0.00000000e+00  0.00000000e+00  1.02002272e-25  0.00000000e+00\n",
      "  0.00000000e+00  5.18111191e-05  1.91550037e-07]\n",
      "[ 1.10582828e-14  0.00000000e+00  0.00000000e+00 -2.77926815e-77\n",
      "  2.24027500e-07  0.00000000e+00  0.00000000e+00  0.00000000e+00\n",
      "  0.00000000e+00  0.00000000e+00  1.07370813e-27  0.00000000e+00\n",
      "  0.00000000e+00  5.45380201e-07  2.01631618e-09]\n",
      "[ 6.08205554e-14  0.00000000e+00  0.00000000e+00 -1.52859748e-76\n",
      "  1.23215125e-06  0.00000000e+00  0.00000000e+00  0.00000000e+00\n",
      "  0.00000000e+00  0.00000000e+00  5.90539470e-27  0.00000000e+00\n",
      "  0.00000000e+00  2.99959110e-06  1.10897390e-08]\n",
      "[ 1.05053687e-12  0.00000000e+00  0.00000000e+00 -2.64030474e-75\n",
      "  2.12826125e-05  0.00000000e+00  0.00000000e+00  0.00000000e+00\n",
      "  0.00000000e+00  0.00000000e+00  1.02002272e-25  0.00000000e+00\n",
      "  0.00000000e+00  5.18111191e-05  1.91550037e-07]\n",
      "[ 1.39887277e-12  0.00000000e+00  0.00000000e+00 -3.51577421e-75\n",
      "  2.83394787e-05  0.00000000e+00  0.00000000e+00  0.00000000e+00\n",
      "  0.00000000e+00  0.00000000e+00  1.35824078e-25  0.00000000e+00\n",
      "  0.00000000e+00  6.89905954e-05  2.55063997e-07]\n",
      "[ 3.87039898e-13  0.00000000e+00  0.00000000e+00 -9.72743851e-76\n",
      "  7.84096249e-06  0.00000000e+00  0.00000000e+00  0.00000000e+00\n",
      "  0.00000000e+00  0.00000000e+00  3.75797844e-26  0.00000000e+00\n",
      "  0.00000000e+00  1.90883070e-05  7.05710663e-08]\n",
      "[ 1.93519949e-13  0.00000000e+00  0.00000000e+00 -4.86371926e-76\n",
      "  3.92048125e-06  0.00000000e+00  0.00000000e+00  0.00000000e+00\n",
      "  0.00000000e+00  0.00000000e+00  1.87898922e-26  0.00000000e+00\n",
      "  0.00000000e+00  9.54415351e-06  3.52855332e-08]\n",
      "[ 1.33252308e-12  0.00000000e+00  0.00000000e+00 -3.34901812e-75\n",
      "  2.69953137e-05  0.00000000e+00  0.00000000e+00  0.00000000e+00\n",
      "  0.00000000e+00  0.00000000e+00  1.29381829e-25  0.00000000e+00\n",
      "  0.00000000e+00  6.57183142e-05  2.42966100e-07]\n",
      "[ 1.24405682e-12  0.00000000e+00  0.00000000e+00 -3.12667667e-75\n",
      "  2.52030937e-05  0.00000000e+00  0.00000000e+00  0.00000000e+00\n",
      "  0.00000000e+00  0.00000000e+00  1.20792164e-25  0.00000000e+00\n",
      "  0.00000000e+00  6.13552726e-05  2.26835570e-07]\n",
      "[ 8.84662624e-13  0.00000000e+00  0.00000000e+00 -2.22341452e-75\n",
      "  1.79222000e-05  0.00000000e+00  0.00000000e+00  0.00000000e+00\n",
      "  0.00000000e+00  0.00000000e+00  8.58966501e-26  0.00000000e+00\n",
      "  0.00000000e+00  4.36304161e-05  1.61305294e-07]\n",
      "[ 5.97147271e-13  0.00000000e+00  0.00000000e+00 -1.50080480e-75\n",
      "  1.20974850e-05  0.00000000e+00  0.00000000e+00  0.00000000e+00\n",
      "  0.00000000e+00  0.00000000e+00  5.79802388e-26  0.00000000e+00\n",
      "  0.00000000e+00  2.94505308e-05  1.08881074e-07]\n",
      "[ 5.52914140e-15  0.00000000e+00  0.00000000e+00 -1.38963407e-77\n",
      "  1.12013750e-07  0.00000000e+00  0.00000000e+00  0.00000000e+00\n",
      "  0.00000000e+00  0.00000000e+00  5.36854063e-28  0.00000000e+00\n",
      "  0.00000000e+00  2.72690100e-07  1.00815809e-09]\n",
      "[ 4.47860454e-13  0.00000000e+00  0.00000000e+00 -1.12560360e-75\n",
      "  9.07311374e-06  0.00000000e+00  0.00000000e+00  0.00000000e+00\n",
      "  0.00000000e+00  0.00000000e+00  4.34851791e-26  0.00000000e+00\n",
      "  0.00000000e+00  2.20878981e-05  8.16608053e-08]\n",
      "[ 1.32699394e-12  0.00000000e+00  0.00000000e+00 -3.33512178e-75\n",
      "  2.68833000e-05  0.00000000e+00  0.00000000e+00  0.00000000e+00\n",
      "  0.00000000e+00  0.00000000e+00  1.28844975e-25  0.00000000e+00\n",
      "  0.00000000e+00  6.54456241e-05  2.41957942e-07]\n",
      "[ 1.39887277e-12  0.00000000e+00  0.00000000e+00 -3.51577421e-75\n",
      "  2.83394787e-05  0.00000000e+00  0.00000000e+00  0.00000000e+00\n",
      "  0.00000000e+00  0.00000000e+00  1.35824078e-25  0.00000000e+00\n",
      "  0.00000000e+00  6.89905954e-05  2.55063997e-07]\n",
      "[ 1.39887277e-12  0.00000000e+00  0.00000000e+00 -3.51577421e-75\n",
      "  2.83394787e-05  0.00000000e+00  0.00000000e+00  0.00000000e+00\n",
      "  0.00000000e+00  0.00000000e+00  1.35824078e-25  0.00000000e+00\n",
      "  0.00000000e+00  6.89905954e-05  2.55063997e-07]\n",
      "[ 6.57967827e-13  0.00000000e+00  0.00000000e+00 -1.65366455e-75\n",
      "  1.33296362e-05  0.00000000e+00  0.00000000e+00  0.00000000e+00\n",
      "  0.00000000e+00  0.00000000e+00  6.38856335e-26  0.00000000e+00\n",
      "  0.00000000e+00  3.24501219e-05  1.19970813e-07]\n",
      "[ 1.38228535e-13  0.00000000e+00  0.00000000e+00 -3.47408518e-76\n",
      "  2.80034375e-06  0.00000000e+00  0.00000000e+00  0.00000000e+00\n",
      "  0.00000000e+00  0.00000000e+00  1.34213516e-26  0.00000000e+00\n",
      "  0.00000000e+00  6.81725251e-06  2.52039523e-08]\n",
      "[ 2.48811363e-13  0.00000000e+00  0.00000000e+00 -6.25335333e-76\n",
      "  5.04061874e-06  0.00000000e+00  0.00000000e+00  0.00000000e+00\n",
      "  0.00000000e+00  0.00000000e+00  2.41584328e-26  0.00000000e+00\n",
      "  0.00000000e+00  1.22710545e-05  4.53671141e-08]\n",
      "[ 1.02842030e-12  0.00000000e+00  0.00000000e+00 -2.58471938e-75\n",
      "  2.08345575e-05  0.00000000e+00  0.00000000e+00  0.00000000e+00\n",
      "  0.00000000e+00  0.00000000e+00  9.98548558e-26  0.00000000e+00\n",
      "  0.00000000e+00  5.07203587e-05  1.87517405e-07]\n",
      "[ 1.39887277e-12  0.00000000e+00  0.00000000e+00 -3.51577421e-75\n",
      "  2.83394787e-05  0.00000000e+00  0.00000000e+00  0.00000000e+00\n",
      "  0.00000000e+00  0.00000000e+00  1.35824078e-25  0.00000000e+00\n",
      "  0.00000000e+00  6.89905954e-05  2.55063997e-07]\n",
      "[ 1.39887277e-12  0.00000000e+00  0.00000000e+00 -3.51577421e-75\n",
      "  2.83394787e-05  0.00000000e+00  0.00000000e+00  0.00000000e+00\n",
      "  0.00000000e+00  0.00000000e+00  1.35824078e-25  0.00000000e+00\n",
      "  0.00000000e+00  6.89905954e-05  2.55063997e-07]\n",
      "[ 8.29371210e-13  0.00000000e+00  0.00000000e+00 -2.08445111e-75\n",
      "  1.68020625e-05  0.00000000e+00  0.00000000e+00  0.00000000e+00\n",
      "  0.00000000e+00  0.00000000e+00  8.05281095e-26  0.00000000e+00\n",
      "  0.00000000e+00  4.09035150e-05  1.51223714e-07]\n",
      "[ 1.49286818e-13  0.00000000e+00  0.00000000e+00 -3.75201200e-76\n",
      "  3.02437125e-06  0.00000000e+00  0.00000000e+00  0.00000000e+00\n",
      "  0.00000000e+00  0.00000000e+00  1.44950597e-26  0.00000000e+00\n",
      "  0.00000000e+00  7.36263271e-06  2.72202684e-08]\n",
      "[ 8.84662624e-14  0.00000000e+00  0.00000000e+00 -2.22341452e-76\n",
      "  1.79222000e-06  0.00000000e+00  0.00000000e+00  0.00000000e+00\n",
      "  0.00000000e+00  0.00000000e+00  8.58966501e-27  0.00000000e+00\n",
      "  0.00000000e+00  4.36304161e-06  1.61305294e-08]\n",
      "[ 5.14210150e-13  0.00000000e+00  0.00000000e+00 -1.29235969e-75\n",
      "  1.04172787e-05  0.00000000e+00  0.00000000e+00  0.00000000e+00\n",
      "  0.00000000e+00  0.00000000e+00  4.99274279e-26  0.00000000e+00\n",
      "  0.00000000e+00  2.53601793e-05  9.37587024e-08]\n",
      "[ 1.39334363e-12  0.00000000e+00  0.00000000e+00 -3.50187787e-75\n",
      "  2.82274650e-05  0.00000000e+00  0.00000000e+00  0.00000000e+00\n",
      "  0.00000000e+00  0.00000000e+00  1.35287224e-25  0.00000000e+00\n",
      "  0.00000000e+00  6.87179053e-05  2.54055839e-07]\n",
      "[ 1.39887277e-12  0.00000000e+00  0.00000000e+00 -3.51577421e-75\n",
      "  2.83394787e-05  0.00000000e+00  0.00000000e+00  0.00000000e+00\n",
      "  0.00000000e+00  0.00000000e+00  1.35824078e-25  0.00000000e+00\n",
      "  0.00000000e+00  6.89905954e-05  2.55063997e-07]\n",
      "[ 1.03394944e-12  0.00000000e+00  0.00000000e+00 -2.59861572e-75\n",
      "  2.09465712e-05  0.00000000e+00  0.00000000e+00  0.00000000e+00\n",
      "  0.00000000e+00  0.00000000e+00  1.00391710e-25  0.00000000e+00\n",
      "  0.00000000e+00  5.09930488e-05  1.88525563e-07]\n",
      "[ 1.37675621e-12  0.00000000e+00  0.00000000e+00 -3.46018884e-75\n",
      "  2.78914237e-05  0.00000000e+00  0.00000000e+00  0.00000000e+00\n",
      "  0.00000000e+00  0.00000000e+00  1.33676662e-25  0.00000000e+00\n",
      "  0.00000000e+00  6.78998350e-05  2.51031364e-07]\n",
      "[ 1.39887277e-12  0.00000000e+00  0.00000000e+00 -3.51577421e-75\n",
      "  2.83394787e-05  0.00000000e+00  0.00000000e+00  0.00000000e+00\n",
      "  0.00000000e+00  0.00000000e+00  1.35824078e-25  0.00000000e+00\n",
      "  0.00000000e+00  6.89905954e-05  2.55063997e-07]\n",
      "[ 1.37675621e-12  0.00000000e+00  0.00000000e+00 -3.46018884e-75\n",
      "  2.78914237e-05  0.00000000e+00  0.00000000e+00  0.00000000e+00\n",
      "  0.00000000e+00  0.00000000e+00  1.33676662e-25  0.00000000e+00\n",
      "  0.00000000e+00  6.78998350e-05  2.51031364e-07]\n",
      "[ 3.53865050e-13  0.00000000e+00  0.00000000e+00 -8.89365807e-76\n",
      "  7.16887999e-06  0.00000000e+00  0.00000000e+00  0.00000000e+00\n",
      "  0.00000000e+00  0.00000000e+00  3.43586600e-26  0.00000000e+00\n",
      "  0.00000000e+00  1.74521664e-05  6.45221178e-08]\n",
      "[ 2.54340505e-13  0.00000000e+00  0.00000000e+00 -6.39231674e-76\n",
      "  5.15263249e-06  0.00000000e+00  0.00000000e+00  0.00000000e+00\n",
      "  0.00000000e+00  0.00000000e+00  2.46952869e-26  0.00000000e+00\n",
      "  0.00000000e+00  1.25437446e-05  4.63752721e-08]\n",
      "[ 7.18788382e-13  0.00000000e+00  0.00000000e+00 -1.80652430e-75\n",
      "  1.45617875e-05  0.00000000e+00  0.00000000e+00  0.00000000e+00\n",
      "  0.00000000e+00  0.00000000e+00  6.97910282e-26  0.00000000e+00\n",
      "  0.00000000e+00  3.54497130e-05  1.31060552e-07]\n",
      "[ 1.01183288e-12  0.00000000e+00  0.00000000e+00 -2.54303035e-75\n",
      "  2.04985162e-05  0.00000000e+00  0.00000000e+00  0.00000000e+00\n",
      "  0.00000000e+00  0.00000000e+00  9.82442936e-26  0.00000000e+00\n",
      "  0.00000000e+00  4.99022884e-05  1.84492930e-07]\n",
      "[ 1.39887277e-12  0.00000000e+00  0.00000000e+00 -3.51577421e-75\n",
      "  2.83394787e-05  0.00000000e+00  0.00000000e+00  0.00000000e+00\n",
      "  0.00000000e+00  0.00000000e+00  1.35824078e-25  0.00000000e+00\n",
      "  0.00000000e+00  6.89905954e-05  2.55063997e-07]\n",
      "[ 1.39887277e-12  0.00000000e+00  0.00000000e+00 -3.51577421e-75\n",
      "  2.83394787e-05  0.00000000e+00  0.00000000e+00  0.00000000e+00\n",
      "  0.00000000e+00  0.00000000e+00  1.35824078e-25  0.00000000e+00\n",
      "  0.00000000e+00  6.89905954e-05  2.55063997e-07]\n",
      "[ 1.14453227e-12  0.00000000e+00  0.00000000e+00 -2.87654253e-75\n",
      "  2.31868462e-05  0.00000000e+00  0.00000000e+00  0.00000000e+00\n",
      "  0.00000000e+00  0.00000000e+00  1.11128791e-25  0.00000000e+00\n",
      "  0.00000000e+00  5.64468508e-05  2.08688725e-07]\n",
      "[ 1.10582828e-14  0.00000000e+00  0.00000000e+00 -2.77926815e-77\n",
      "  2.24027500e-07  0.00000000e+00  0.00000000e+00  0.00000000e+00\n",
      "  0.00000000e+00  0.00000000e+00  1.07370813e-27  0.00000000e+00\n",
      "  0.00000000e+00  5.45380201e-07  2.01631618e-09]\n",
      "[ 2.15636515e-13  0.00000000e+00  0.00000000e+00 -5.41957289e-76\n",
      "  4.36853625e-06  0.00000000e+00  0.00000000e+00  0.00000000e+00\n",
      "  0.00000000e+00  0.00000000e+00  2.09373085e-26  0.00000000e+00\n",
      "  0.00000000e+00  1.06349139e-05  3.93181655e-08]\n",
      "[ 8.18312928e-13  0.00000000e+00  0.00000000e+00 -2.05665843e-75\n",
      "  1.65780350e-05  0.00000000e+00  0.00000000e+00  0.00000000e+00\n",
      "  0.00000000e+00  0.00000000e+00  7.94544014e-26  0.00000000e+00\n",
      "  0.00000000e+00  4.03581348e-05  1.49207397e-07]\n",
      "[ 1.26617338e-12  0.00000000e+00  0.00000000e+00 -3.18226203e-75\n",
      "  2.56511487e-05  0.00000000e+00  0.00000000e+00  0.00000000e+00\n",
      "  0.00000000e+00  0.00000000e+00  1.22939580e-25  0.00000000e+00\n",
      "  0.00000000e+00  6.24460330e-05  2.30868203e-07]\n",
      "[ 1.39887277e-12  0.00000000e+00  0.00000000e+00 -3.51577421e-75\n",
      "  2.83394787e-05  0.00000000e+00  0.00000000e+00  0.00000000e+00\n",
      "  0.00000000e+00  0.00000000e+00  1.35824078e-25  0.00000000e+00\n",
      "  0.00000000e+00  6.89905954e-05  2.55063997e-07]\n",
      "[ 1.39887277e-12  0.00000000e+00  0.00000000e+00 -3.51577421e-75\n",
      "  2.83394787e-05  0.00000000e+00  0.00000000e+00  0.00000000e+00\n",
      "  0.00000000e+00  0.00000000e+00  1.35824078e-25  0.00000000e+00\n",
      "  0.00000000e+00  6.89905954e-05  2.55063997e-07]\n",
      "[ 1.39887277e-12  0.00000000e+00  0.00000000e+00 -3.51577421e-75\n",
      "  2.83394787e-05  0.00000000e+00  0.00000000e+00  0.00000000e+00\n",
      "  0.00000000e+00  0.00000000e+00  1.35824078e-25  0.00000000e+00\n",
      "  0.00000000e+00  6.89905954e-05  2.55063997e-07]\n",
      "[ 1.38228535e-12  0.00000000e+00  0.00000000e+00 -3.47408518e-75\n",
      "  2.80034375e-05  0.00000000e+00  0.00000000e+00  0.00000000e+00\n",
      "  0.00000000e+00  0.00000000e+00  1.34213516e-25  0.00000000e+00\n",
      "  0.00000000e+00  6.81725251e-05  2.52039523e-07]\n",
      "[ 1.00630374e-12  0.00000000e+00  0.00000000e+00 -2.52913401e-75\n",
      "  2.03865025e-05  0.00000000e+00  0.00000000e+00  0.00000000e+00\n",
      "  0.00000000e+00  0.00000000e+00  9.77074395e-26  0.00000000e+00\n",
      "  0.00000000e+00  4.96295983e-05  1.83484772e-07]\n",
      "[ 1.32699394e-13  0.00000000e+00  0.00000000e+00 -3.33512178e-76\n",
      "  2.68833000e-06  0.00000000e+00  0.00000000e+00  0.00000000e+00\n",
      "  0.00000000e+00  0.00000000e+00  1.28844975e-26  0.00000000e+00\n",
      "  0.00000000e+00  6.54456241e-06  2.41957942e-08]\n",
      "[ 6.30322120e-13  0.00000000e+00  0.00000000e+00 -1.58418284e-75\n",
      "  1.27695675e-05  0.00000000e+00  0.00000000e+00  0.00000000e+00\n",
      "  0.00000000e+00  0.00000000e+00  6.12013632e-26  0.00000000e+00\n",
      "  0.00000000e+00  3.10866714e-05  1.14930022e-07]\n",
      "[ 1.22194025e-12  0.00000000e+00  0.00000000e+00 -3.07109130e-75\n",
      "  2.47550387e-05  0.00000000e+00  0.00000000e+00  0.00000000e+00\n",
      "  0.00000000e+00  0.00000000e+00  1.18644748e-25  0.00000000e+00\n",
      "  0.00000000e+00  6.02645122e-05  2.22802938e-07]\n",
      "[ 1.39887277e-12  0.00000000e+00  0.00000000e+00 -3.51577421e-75\n",
      "  2.83394787e-05  0.00000000e+00  0.00000000e+00  0.00000000e+00\n",
      "  0.00000000e+00  0.00000000e+00  1.35824078e-25  0.00000000e+00\n",
      "  0.00000000e+00  6.89905954e-05  2.55063997e-07]\n",
      "[ 1.39887277e-12  0.00000000e+00  0.00000000e+00 -3.51577421e-75\n",
      "  2.83394787e-05  0.00000000e+00  0.00000000e+00  0.00000000e+00\n",
      "  0.00000000e+00  0.00000000e+00  1.35824078e-25  0.00000000e+00\n",
      "  0.00000000e+00  6.89905954e-05  2.55063997e-07]\n",
      "[ 1.39887277e-12  0.00000000e+00  0.00000000e+00 -3.51577421e-75\n",
      "  2.83394787e-05  0.00000000e+00  0.00000000e+00  0.00000000e+00\n",
      "  0.00000000e+00  0.00000000e+00  1.35824078e-25  0.00000000e+00\n",
      "  0.00000000e+00  6.89905954e-05  2.55063997e-07]\n",
      "[ 1.39887277e-12  0.00000000e+00  0.00000000e+00 -3.51577421e-75\n",
      "  2.83394787e-05  0.00000000e+00  0.00000000e+00  0.00000000e+00\n",
      "  0.00000000e+00  0.00000000e+00  1.35824078e-25  0.00000000e+00\n",
      "  0.00000000e+00  6.89905954e-05  2.55063997e-07]\n",
      "[ 1.11135742e-12  0.00000000e+00  0.00000000e+00 -2.79316449e-75\n",
      "  2.25147637e-05  0.00000000e+00  0.00000000e+00  0.00000000e+00\n",
      "  0.00000000e+00  0.00000000e+00  1.07907667e-25  0.00000000e+00\n",
      "  0.00000000e+00  5.48107102e-05  2.02639776e-07]\n",
      "[ 4.31273029e-13  0.00000000e+00  0.00000000e+00 -1.08391458e-75\n",
      "  8.73707249e-06  0.00000000e+00  0.00000000e+00  0.00000000e+00\n",
      "  0.00000000e+00  0.00000000e+00  4.18746169e-26  0.00000000e+00\n",
      "  0.00000000e+00  2.12698278e-05  7.86363310e-08]\n",
      "[ 1.27170252e-13  0.00000000e+00  0.00000000e+00 -3.19615837e-76\n",
      "  2.57631625e-06  0.00000000e+00  0.00000000e+00  0.00000000e+00\n",
      "  0.00000000e+00  0.00000000e+00  1.23476435e-26  0.00000000e+00\n",
      "  0.00000000e+00  6.27187231e-06  2.31876361e-08]\n",
      "[ 3.64923333e-13  0.00000000e+00  0.00000000e+00 -9.17158488e-76\n",
      "  7.39290749e-06  0.00000000e+00  0.00000000e+00  0.00000000e+00\n",
      "  0.00000000e+00  0.00000000e+00  3.54323682e-26  0.00000000e+00\n",
      "  0.00000000e+00  1.79975466e-05  6.65384339e-08]\n",
      "[ 1.17770712e-12  0.00000000e+00  0.00000000e+00 -2.95992058e-75\n",
      "  2.38589287e-05  0.00000000e+00  0.00000000e+00  0.00000000e+00\n",
      "  0.00000000e+00  0.00000000e+00  1.14349915e-25  0.00000000e+00\n",
      "  0.00000000e+00  5.80829914e-05  2.14737673e-07]\n",
      "[ 1.39887277e-12  0.00000000e+00  0.00000000e+00 -3.51577421e-75\n",
      "  2.83394787e-05  0.00000000e+00  0.00000000e+00  0.00000000e+00\n",
      "  0.00000000e+00  0.00000000e+00  1.35824078e-25  0.00000000e+00\n",
      "  0.00000000e+00  6.89905954e-05  2.55063997e-07]\n",
      "[ 1.39887277e-12  0.00000000e+00  0.00000000e+00 -3.51577421e-75\n",
      "  2.83394787e-05  0.00000000e+00  0.00000000e+00  0.00000000e+00\n",
      "  0.00000000e+00  0.00000000e+00  1.35824078e-25  0.00000000e+00\n",
      "  0.00000000e+00  6.89905954e-05  2.55063997e-07]\n",
      "[ 1.39887277e-12  0.00000000e+00  0.00000000e+00 -3.51577421e-75\n",
      "  2.83394787e-05  0.00000000e+00  0.00000000e+00  0.00000000e+00\n",
      "  0.00000000e+00  0.00000000e+00  1.35824078e-25  0.00000000e+00\n",
      "  0.00000000e+00  6.89905954e-05  2.55063997e-07]\n",
      "[ 1.39887277e-12  0.00000000e+00  0.00000000e+00 -3.51577421e-75\n",
      "  2.83394787e-05  0.00000000e+00  0.00000000e+00  0.00000000e+00\n",
      "  0.00000000e+00  0.00000000e+00  1.35824078e-25  0.00000000e+00\n",
      "  0.00000000e+00  6.89905954e-05  2.55063997e-07]\n",
      "[ 1.09477000e-12  0.00000000e+00  0.00000000e+00 -2.75147547e-75\n",
      "  2.21787225e-05  0.00000000e+00  0.00000000e+00  0.00000000e+00\n",
      "  0.00000000e+00  0.00000000e+00  1.06297105e-25  0.00000000e+00\n",
      "  0.00000000e+00  5.39926399e-05  1.99615302e-07]\n",
      "[ 4.47860454e-13  0.00000000e+00  0.00000000e+00 -1.12560360e-75\n",
      "  9.07311374e-06  0.00000000e+00  0.00000000e+00  0.00000000e+00\n",
      "  0.00000000e+00  0.00000000e+00  4.34851791e-26  0.00000000e+00\n",
      "  0.00000000e+00  2.20878981e-05  8.16608053e-08]\n",
      "[ 1.10582828e-14  0.00000000e+00  0.00000000e+00 -2.77926815e-77\n",
      "  2.24027500e-07  0.00000000e+00  0.00000000e+00  0.00000000e+00\n",
      "  0.00000000e+00  0.00000000e+00  1.07370813e-27  0.00000000e+00\n",
      "  0.00000000e+00  5.45380201e-07  2.01631618e-09]\n",
      "[ 9.95245452e-14  0.00000000e+00  0.00000000e+00 -2.50134133e-76\n",
      "  2.01624750e-06  0.00000000e+00  0.00000000e+00  0.00000000e+00\n",
      "  0.00000000e+00  0.00000000e+00  9.66337314e-27  0.00000000e+00\n",
      "  0.00000000e+00  4.90842181e-06  1.81468456e-08]\n",
      "[ 9.45483180e-13  0.00000000e+00  0.00000000e+00 -2.37627427e-75\n",
      "  1.91543512e-05  0.00000000e+00  0.00000000e+00  0.00000000e+00\n",
      "  0.00000000e+00  0.00000000e+00  9.18020448e-26  0.00000000e+00\n",
      "  0.00000000e+00  4.66300072e-05  1.72395033e-07]\n",
      "[ 1.21088197e-12  0.00000000e+00  0.00000000e+00 -3.04329862e-75\n",
      "  2.45310112e-05  0.00000000e+00  0.00000000e+00  0.00000000e+00\n",
      "  0.00000000e+00  0.00000000e+00  1.17571040e-25  0.00000000e+00\n",
      "  0.00000000e+00  5.97191320e-05  2.20786622e-07]\n",
      "[ 1.39887277e-12  0.00000000e+00  0.00000000e+00 -3.51577421e-75\n",
      "  2.83394787e-05  0.00000000e+00  0.00000000e+00  0.00000000e+00\n",
      "  0.00000000e+00  0.00000000e+00  1.35824078e-25  0.00000000e+00\n",
      "  0.00000000e+00  6.89905954e-05  2.55063997e-07]\n",
      "[ 1.39887277e-12  0.00000000e+00  0.00000000e+00 -3.51577421e-75\n",
      "  2.83394787e-05  0.00000000e+00  0.00000000e+00  0.00000000e+00\n",
      "  0.00000000e+00  0.00000000e+00  1.35824078e-25  0.00000000e+00\n",
      "  0.00000000e+00  6.89905954e-05  2.55063997e-07]\n",
      "[ 1.39887277e-12  0.00000000e+00  0.00000000e+00 -3.51577421e-75\n",
      "  2.83394787e-05  0.00000000e+00  0.00000000e+00  0.00000000e+00\n",
      "  0.00000000e+00  0.00000000e+00  1.35824078e-25  0.00000000e+00\n",
      "  0.00000000e+00  6.89905954e-05  2.55063997e-07]\n",
      "[ 1.39887277e-12  0.00000000e+00  0.00000000e+00 -3.51577421e-75\n",
      "  2.83394787e-05  0.00000000e+00  0.00000000e+00  0.00000000e+00\n",
      "  0.00000000e+00  0.00000000e+00  1.35824078e-25  0.00000000e+00\n",
      "  0.00000000e+00  6.89905954e-05  2.55063997e-07]\n",
      "[ 1.07818257e-12  0.00000000e+00  0.00000000e+00 -2.70978644e-75\n",
      "  2.18426812e-05  0.00000000e+00  0.00000000e+00  0.00000000e+00\n",
      "  0.00000000e+00  0.00000000e+00  1.04686542e-25  0.00000000e+00\n",
      "  0.00000000e+00  5.31745696e-05  1.96590828e-07]\n",
      "[ 4.42331312e-13  0.00000000e+00  0.00000000e+00 -1.11170726e-75\n",
      "  8.96109999e-06  0.00000000e+00  0.00000000e+00  0.00000000e+00\n",
      "  0.00000000e+00  0.00000000e+00  4.29483251e-26  0.00000000e+00\n",
      "  0.00000000e+00  2.18152080e-05  8.06526472e-08]\n",
      "[ 4.97622726e-14  0.00000000e+00  0.00000000e+00 -1.25067067e-76\n",
      "  1.00812375e-06  0.00000000e+00  0.00000000e+00  0.00000000e+00\n",
      "  0.00000000e+00  0.00000000e+00  4.83168657e-27  0.00000000e+00\n",
      "  0.00000000e+00  2.45421090e-06  9.07342281e-09]\n",
      "[ 3.04102777e-13  0.00000000e+00  0.00000000e+00 -7.64298740e-76\n",
      "  6.16075624e-06  0.00000000e+00  0.00000000e+00  0.00000000e+00\n",
      "  0.00000000e+00  0.00000000e+00  2.95269735e-26  0.00000000e+00\n",
      "  0.00000000e+00  1.49979555e-05  5.54486950e-08]\n",
      "[ 9.51012321e-13  0.00000000e+00  0.00000000e+00 -2.39017061e-75\n",
      "  1.92663650e-05  0.00000000e+00  0.00000000e+00  0.00000000e+00\n",
      "  0.00000000e+00  0.00000000e+00  9.23388989e-26  0.00000000e+00\n",
      "  0.00000000e+00  4.69026973e-05  1.73403191e-07]\n",
      "[ 1.24958596e-12  0.00000000e+00  0.00000000e+00 -3.14057301e-75\n",
      "  2.53151075e-05  0.00000000e+00  0.00000000e+00  0.00000000e+00\n",
      "  0.00000000e+00  0.00000000e+00  1.21329018e-25  0.00000000e+00\n",
      "  0.00000000e+00  6.16279627e-05  2.27843728e-07]\n",
      "[ 1.39887277e-12  0.00000000e+00  0.00000000e+00 -3.51577421e-75\n",
      "  2.83394787e-05  0.00000000e+00  0.00000000e+00  0.00000000e+00\n",
      "  0.00000000e+00  0.00000000e+00  1.35824078e-25  0.00000000e+00\n",
      "  0.00000000e+00  6.89905954e-05  2.55063997e-07]\n",
      "[ 1.39887277e-12  0.00000000e+00  0.00000000e+00 -3.51577421e-75\n",
      "  2.83394787e-05  0.00000000e+00  0.00000000e+00  0.00000000e+00\n",
      "  0.00000000e+00  0.00000000e+00  1.35824078e-25  0.00000000e+00\n",
      "  0.00000000e+00  6.89905954e-05  2.55063997e-07]\n",
      "[ 1.39887277e-12  0.00000000e+00  0.00000000e+00 -3.51577421e-75\n",
      "  2.83394787e-05  0.00000000e+00  0.00000000e+00  0.00000000e+00\n",
      "  0.00000000e+00  0.00000000e+00  1.35824078e-25  0.00000000e+00\n",
      "  0.00000000e+00  6.89905954e-05  2.55063997e-07]\n",
      "[ 1.39887277e-12  0.00000000e+00  0.00000000e+00 -3.51577421e-75\n",
      "  2.83394787e-05  0.00000000e+00  0.00000000e+00  0.00000000e+00\n",
      "  0.00000000e+00  0.00000000e+00  1.35824078e-25  0.00000000e+00\n",
      "  0.00000000e+00  6.89905954e-05  2.55063997e-07]\n",
      "[ 1.34911050e-12  0.00000000e+00  0.00000000e+00 -3.39070714e-75\n",
      "  2.73313550e-05  0.00000000e+00  0.00000000e+00  0.00000000e+00\n",
      "  0.00000000e+00  0.00000000e+00  1.30992391e-25  0.00000000e+00\n",
      "  0.00000000e+00  6.65363845e-05  2.45990574e-07]\n",
      "[ 7.35375807e-13  0.00000000e+00  0.00000000e+00 -1.84821332e-75\n",
      "  1.48978287e-05  0.00000000e+00  0.00000000e+00  0.00000000e+00\n",
      "  0.00000000e+00  0.00000000e+00  7.14015904e-26  0.00000000e+00\n",
      "  0.00000000e+00  3.62677833e-05  1.34085026e-07]\n",
      "[ 6.08205554e-14  0.00000000e+00  0.00000000e+00 -1.52859748e-76\n",
      "  1.23215125e-06  0.00000000e+00  0.00000000e+00  0.00000000e+00\n",
      "  0.00000000e+00  0.00000000e+00  5.90539470e-27  0.00000000e+00\n",
      "  0.00000000e+00  2.99959110e-06  1.10897390e-08]\n",
      "[ 7.51963231e-13  0.00000000e+00  0.00000000e+00 -1.88990234e-75\n",
      "  1.52338700e-05  0.00000000e+00  0.00000000e+00  0.00000000e+00\n",
      "  0.00000000e+00  0.00000000e+00  7.30121526e-26  0.00000000e+00\n",
      "  0.00000000e+00  3.70858536e-05  1.37109500e-07]\n",
      "[ 1.39887277e-12  0.00000000e+00  0.00000000e+00 -3.51577421e-75\n",
      "  2.83394787e-05  0.00000000e+00  0.00000000e+00  0.00000000e+00\n",
      "  0.00000000e+00  0.00000000e+00  1.35824078e-25  0.00000000e+00\n",
      "  0.00000000e+00  6.89905954e-05  2.55063997e-07]\n",
      "[ 1.39887277e-12  0.00000000e+00  0.00000000e+00 -3.51577421e-75\n",
      "  2.83394787e-05  0.00000000e+00  0.00000000e+00  0.00000000e+00\n",
      "  0.00000000e+00  0.00000000e+00  1.35824078e-25  0.00000000e+00\n",
      "  0.00000000e+00  6.89905954e-05  2.55063997e-07]\n",
      "[ 1.39887277e-12  0.00000000e+00  0.00000000e+00 -3.51577421e-75\n",
      "  2.83394787e-05  0.00000000e+00  0.00000000e+00  0.00000000e+00\n",
      "  0.00000000e+00  0.00000000e+00  1.35824078e-25  0.00000000e+00\n",
      "  0.00000000e+00  6.89905954e-05  2.55063997e-07]\n",
      "[ 1.17217798e-12  0.00000000e+00  0.00000000e+00 -2.94602424e-75\n",
      "  2.37469150e-05  0.00000000e+00  0.00000000e+00  0.00000000e+00\n",
      "  0.00000000e+00  0.00000000e+00  1.13813061e-25  0.00000000e+00\n",
      "  0.00000000e+00  5.78103013e-05  2.13729515e-07]\n",
      "[ 7.46434089e-13  0.00000000e+00  0.00000000e+00 -1.87600600e-75\n",
      "  1.51218562e-05  0.00000000e+00  0.00000000e+00  0.00000000e+00\n",
      "  0.00000000e+00  0.00000000e+00  7.24752985e-26  0.00000000e+00\n",
      "  0.00000000e+00  3.68131635e-05  1.36101342e-07]\n",
      "[ 7.29846665e-13  0.00000000e+00  0.00000000e+00 -1.83431698e-75\n",
      "  1.47858150e-05  0.00000000e+00  0.00000000e+00  0.00000000e+00\n",
      "  0.00000000e+00  0.00000000e+00  7.08647363e-26  0.00000000e+00\n",
      "  0.00000000e+00  3.59950932e-05  1.33076868e-07]\n",
      "[ 8.84662624e-14  0.00000000e+00  0.00000000e+00 -2.22341452e-76\n",
      "  1.79222000e-06  0.00000000e+00  0.00000000e+00  0.00000000e+00\n",
      "  0.00000000e+00  0.00000000e+00  8.58966501e-27  0.00000000e+00\n",
      "  0.00000000e+00  4.36304161e-06  1.61305294e-08]\n"
     ]
    }
   ],
   "source": [
    "for i in network.layers[0].weights.deltas:\n",
    "    if np.max(i) > 0:\n",
    "        print(i)"
   ]
  },
  {
   "cell_type": "markdown",
   "metadata": {},
   "source": [
    "# Input Layer"
   ]
  },
  {
   "cell_type": "code",
   "execution_count": null,
   "metadata": {},
   "outputs": [],
   "source": [
    "input_layer = InputLayer()\n",
    "input_tensorlist = input_layer.forward(train_images)"
   ]
  },
  {
   "cell_type": "markdown",
   "metadata": {},
   "source": [
    "# Fully Connected 1"
   ]
  },
  {
   "cell_type": "code",
   "execution_count": null,
   "metadata": {},
   "outputs": [],
   "source": [
    "out_shape=(100,)\n",
    "fully_connected = FullyConnected(out_shape=out_shape)\n",
    "out_tensor_fully_connected1 = np.array([Tensor(np.random.rand(out_shape[0]), None) for j in range(0, len(input_tensorlist))])\n",
    "fully_connected.forward(in_tensors=input_tensorlist, out_tensors=out_tensor_fully_connected1)"
   ]
  },
  {
   "cell_type": "code",
   "execution_count": null,
   "metadata": {},
   "outputs": [
    {
     "data": {
      "text/plain": [
       "array([13855.32327516, 14567.87946531, 12531.64266387, 13065.09199568,\n",
       "       13717.27042773, 13144.85267195, 14172.86492735, 13344.64554154,\n",
       "       13789.30046119, 13234.91262216, 14386.86711745, 14110.44445943,\n",
       "       14011.03393467, 13626.79211007, 14183.92327854, 13196.15787959,\n",
       "       12533.8216709 , 14009.36439561, 14305.71061599, 14244.94249371,\n",
       "       13756.82421686, 14248.35678187, 13694.60728455, 13465.37950326,\n",
       "       13765.26222772, 14410.22192256, 13453.50571786, 13971.10785787,\n",
       "       13484.35685788, 12655.63794863, 12429.55267367, 14555.04290196,\n",
       "       13832.72866545, 14343.43362097, 13755.93510764, 13823.52715719,\n",
       "       13342.75422834, 12687.45679859, 13605.87063681, 13682.76244315,\n",
       "       13272.07845833, 12832.37884452, 14254.27618778, 12977.85169336,\n",
       "       15051.38516363, 14307.03311969, 14245.05595451, 12788.95005566,\n",
       "       13792.19609532, 13385.96231409, 13881.2569936 , 13664.41136983,\n",
       "       14123.34368646, 13645.73949912, 14719.56784325, 13915.15399392,\n",
       "       14166.66715271, 14809.240408  , 13639.68862154, 13544.74970512,\n",
       "       13205.13394831, 13378.76225168, 15057.42276619, 14429.58289117,\n",
       "       12872.99561145, 14492.98478382, 14338.38583837, 14604.87407039,\n",
       "       13601.41990684, 12473.51839397, 13403.1779679 , 13548.28077242,\n",
       "       14344.28849247, 12804.38035959, 13076.56765404, 13028.97948262,\n",
       "       13142.17927788, 13168.67980436, 13695.24201877, 14092.45280968,\n",
       "       13620.39754133, 14890.4803807 , 13474.51953145, 14468.21317034,\n",
       "       13811.4023092 , 13537.48457039, 14499.30977841, 15129.87907948,\n",
       "       13710.35258405, 14109.72208311, 14312.01369653, 13363.14115053,\n",
       "       14182.25415053, 12834.39074149, 12224.93737001, 13841.53165683,\n",
       "       14027.44862187, 13272.8773969 , 12718.89282211, 12940.7524809 ])"
      ]
     },
     "execution_count": 43,
     "metadata": {},
     "output_type": "execute_result"
    }
   ],
   "source": [
    "out_tensor_fully_connected1[0].elements"
   ]
  },
  {
   "cell_type": "markdown",
   "metadata": {},
   "source": [
    "# Sigmoid"
   ]
  },
  {
   "cell_type": "code",
   "execution_count": null,
   "metadata": {},
   "outputs": [],
   "source": [
    "activation_layer = ActivationLayer(sigmoid)\n",
    "out_tensor_activation = np.array([Tensor(np.random.rand(out_shape[0]), None) for j in range(0, len(input_tensorlist))])\n",
    "activation_layer.forward(out_tensor_fully_connected1, out_tensor_activation)"
   ]
  },
  {
   "cell_type": "code",
   "execution_count": null,
   "metadata": {},
   "outputs": [],
   "source": [
    "sigmoid_layer = ActivationLayer(sigmoid)"
   ]
  },
  {
   "cell_type": "code",
   "execution_count": null,
   "metadata": {},
   "outputs": [],
   "source": [
    "in_tensors = [Tensor(elements=np.array([1, 2, 3, 4], dtype=np.float64))]\n",
    "out_tensors = [Tensor(elements=np.array([0, 0, 0, 0], dtype=np.float64))]\n",
    "out_tensors[0].deltas = np.array([6, 7, 8, 9])\n",
    "expected_output = [1.1796716, 0.7349551, 0.36141328, 0.15896436]\n",
    "\n",
    "sigmoid_layer.forward(in_tensors, out_tensors)\n",
    "sigmoid_layer.backward(out_tensors, in_tensors)"
   ]
  },
  {
   "cell_type": "code",
   "execution_count": null,
   "metadata": {},
   "outputs": [
    {
     "data": {
      "text/plain": [
       "array([1.1796716 , 0.7349551 , 0.36141328, 0.15896436])"
      ]
     },
     "execution_count": 35,
     "metadata": {},
     "output_type": "execute_result"
    }
   ],
   "source": [
    "in_tensors[0].deltas"
   ]
  },
  {
   "cell_type": "markdown",
   "metadata": {},
   "source": [
    "# Fully Connected 2"
   ]
  },
  {
   "cell_type": "code",
   "execution_count": null,
   "metadata": {},
   "outputs": [],
   "source": [
    "out_shape=(10,)\n",
    "fully_connected = FullyConnected(out_shape=out_shape)\n",
    "out_tensor_fully_connected2 = np.array([Tensor(np.random.rand(out_shape[0]), None) for j in range(0, len(input_tensorlist))])\n",
    "fully_connected.forward(in_tensors=out_tensor_activation, out_tensors=out_tensor_fully_connected2)"
   ]
  },
  {
   "cell_type": "code",
   "execution_count": null,
   "metadata": {},
   "outputs": [
    {
     "data": {
      "text/plain": [
       "array([21.53422881, 23.77821393, 21.3411817 , 23.2444338 , 22.3820653 ,\n",
       "       20.77149952, 22.49382576, 19.6519166 , 23.03132047, 19.78697478])"
      ]
     },
     "execution_count": 48,
     "metadata": {},
     "output_type": "execute_result"
    }
   ],
   "source": [
    "out_tensor_fully_connected2[0].elements"
   ]
  },
  {
   "cell_type": "markdown",
   "metadata": {},
   "source": [
    "# Soft Max"
   ]
  },
  {
   "cell_type": "code",
   "execution_count": null,
   "metadata": {},
   "outputs": [],
   "source": [
    "activation_layer = ActivationLayer(soft_max)\n",
    "out_tensor_activation = np.array([Tensor(np.random.rand(out_shape[0]), None) for j in range(0, len(input_tensorlist))])\n",
    "activation_layer.forward(out_tensor_fully_connected2, out_tensor_activation)"
   ]
  },
  {
   "cell_type": "code",
   "execution_count": null,
   "metadata": {},
   "outputs": [
    {
     "name": "stdout",
     "output_type": "stream",
     "text": [
      "10\n"
     ]
    },
    {
     "data": {
      "text/plain": [
       "array([0.03704778, 0.34939171, 0.03054379, 0.20487777, 0.08649141,\n",
       "       0.01727878, 0.09671858, 0.00564007, 0.16555446, 0.00645564])"
      ]
     },
     "execution_count": 55,
     "metadata": {},
     "output_type": "execute_result"
    }
   ],
   "source": [
    "print(len(out_tensor_activation[0].elements))\n",
    "out_tensor_activation[0].elements"
   ]
  },
  {
   "cell_type": "markdown",
   "metadata": {},
   "source": [
    "# Mean Squared Error"
   ]
  },
  {
   "cell_type": "code",
   "execution_count": null,
   "metadata": {},
   "outputs": [],
   "source": [
    "mse_layer = LossLayer(mean_squared_error)\n",
    "cross_entropy_layer = LossLayer(loss=cross_entropy)\n",
    "pred = [Tensor(elements=np.array([0.1, 0.2, 0.3, 0.4], dtype=np.float64))]\n",
    "target = [Tensor(elements=np.array([1, 0, 0, 0], dtype=np.float64))]\n",
    "mse = mse_layer.forward(targets=target, predictions=pred)\n",
    "cross_entropy_val = cross_entropy_layer.forward(targets=target, predictions=pred)"
   ]
  },
  {
   "cell_type": "code",
   "execution_count": null,
   "metadata": {},
   "outputs": [
    {
     "data": {
      "text/plain": [
       "2.3025850929940455"
      ]
     },
     "execution_count": 28,
     "metadata": {},
     "output_type": "execute_result"
    }
   ],
   "source": [
    "cross_entropy_val"
   ]
  },
  {
   "cell_type": "markdown",
   "metadata": {},
   "source": [
    "## conv forward"
   ]
  },
  {
   "cell_type": "code",
   "execution_count": 32,
   "metadata": {},
   "outputs": [],
   "source": [
    "in_shape=Shape((4, 3, 2))\n",
    "out_shape=Shape((3, 2, 2))\n",
    "kernel_size=Shape((2, 2))\n",
    "num_filters=2\n",
    "weights = Tensor(\n",
    "            elements=np.array(\n",
    "                [[[ [ 0.1, 0.37],\n",
    "                    [ 0.7, 0.9 ]],\n",
    "\n",
    "                    [[ 0.3, 0.32],\n",
    "                    [ 0.9, 0.2 ]]],\n",
    "\n",
    "\n",
    "                    [[[-0.2, -0.9 ],\n",
    "                    [ 0.6, 0.3 ]],\n",
    "\n",
    "                    [[ 0.4, 0.17],\n",
    "                    [-1.1, -0.7 ]]]]\n",
    "            )\n",
    "        )\n",
    "out_tensor = Tensor(\n",
    "            elements=np.array(\n",
    "                [   [[ 2.,      1.469 ],\n",
    "                    [ 2.123,  -0.1288]],\n",
    "\n",
    "                    [[-0.34,   -0.784 ],\n",
    "                    [-3.83,   -3.689 ]],\n",
    "\n",
    "                    [[-0.83,   -1.464 ],\n",
    "                    [ 2.06,   -1.984 ]]],\n",
    "                dtype=np.float64,\n",
    "            )\n",
    "        )\n",
    "\n",
    "out_tensor.deltas = np.array(\n",
    "            [[  [ 0.1,  -0.5 ],\n",
    "                [-0.25, -0.8 ]],\n",
    "\n",
    "                [[ 0.33,  0.2 ],\n",
    "                [ 1.3,   0.81]],\n",
    "\n",
    "                [[-0.6,   0.1 ],\n",
    "                [ 0.01,  1.1 ]]],\n",
    "            dtype=np.float64,\n",
    "        )\n",
    "in_tensor = Tensor(\n",
    "            elements=np.array(\n",
    "                [[  [ 0.1, 0.9 ],\n",
    "                    [ 1.2, 1.1 ],\n",
    "                    [ 0.01, 3.2 ]],\n",
    "\n",
    "                    [[-0.2, 0.3 ],\n",
    "                    [ 1.4, 0.7 ],\n",
    "                    [ 0.2, 1.7 ]],\n",
    "\n",
    "                    [[ 0.5, 0.5 ],\n",
    "                    [ 1.6, 2.2 ],\n",
    "                    [-0.3, 6.3 ]],\n",
    "\n",
    "                    [[ 0.6, 0.65],\n",
    "                    [ 2.2, 4.4 ],\n",
    "                    [ 4., 8.2 ]]]\n",
    "            )\n",
    "        )"
   ]
  },
  {
   "cell_type": "code",
   "execution_count": 160,
   "metadata": {},
   "outputs": [],
   "source": [
    "output_arr = []\n",
    "for y in range(len(tensor.elements) - kernel_size.shape[0] + 1):\n",
    "    y_arr = []\n",
    "    for x in range(len(tensor.elements[0]) - kernel_size.shape[1] + 1):\n",
    "        x_arr = []\n",
    "        for z in range(num_filters):\n",
    "            #for a in range(in_shape.shape[2]):\n",
    "                #for i in range(kernel_size.shape[0]):\n",
    "                #    for j in range(kernel_size.shape[1]):\n",
    "                        #print(tensor.elements[y + i][x + j][a])\n",
    "                        #print(weights.elements[i][j][a][z])\n",
    "                        #c.append(np.multiply(tensor.elements[y + i][x + j][a], weights.elements[i][j][a][z]))\n",
    "            channel_value = np.sum([np.multiply(tensor.elements[y + i][x + j][a], weights.elements[i][j][a][z]) for j in range(kernel_size.shape[1]) for i in range(kernel_size.shape[0]) for a in range(in_shape.shape[2])])\n",
    "                #channel_values = np.sum(channel_values, axis=0)\n",
    "            x_arr.append(channel_value)\n",
    "        y_arr.append(x_arr)\n",
    "    output_arr.append(y_arr)\n",
    "#out_tensors[0].elements = np.array(output_arr)"
   ]
  },
  {
   "cell_type": "markdown",
   "metadata": {},
   "source": [
    "## Conv backward"
   ]
  },
  {
   "cell_type": "code",
   "execution_count": 78,
   "metadata": {},
   "outputs": [],
   "source": [
    "# maybe always equals the input shape\n",
    "padding_x = kernel_size.shape[0] - 1\n",
    "padding_y = kernel_size.shape[1] - 1\n",
    "output_x = out_shape.shape[0] + 2 * padding_x - (kernel_size.shape[0] - 1)\n",
    "output_y = out_shape.shape[1] + 2 * padding_y - (kernel_size.shape[1] - 1)\n",
    "padded_shape = (output_x, output_y, out_shape.shape[2])\n",
    "padded_array = np.zeros(padded_shape)\n",
    "\n",
    "padded_array = np.zeros(in_shape.shape)\n",
    "for x in range(out_shape.shape[0]):\n",
    "    for y in range(out_shape.shape[1]):\n",
    "        for z in range(num_filters):\n",
    "            padded_array[x + padding_x][y + padding_y][z] = out_tensor.deltas[x][y][z]\n",
    "\n",
    "rotated_filter = np.zeros(shape=weights.shape)\n",
    "for z in range(num_filters):\n",
    "    for a in range(in_shape.shape[2]):\n",
    "        for i in range(kernel_size.shape[1]):\n",
    "            for j in range(kernel_size.shape[0]):\n",
    "                # print(weights.elements[i][j][a][z])\n",
    "                # print(weights.elements[(kernel_size.shape[1]-1)-i][(kernel_size.shape[0]-1)-j][a][z])\n",
    "                rotated_filter[i][j][a][z] = weights.elements[(kernel_size.shape[1]-1)-i][(kernel_size.shape[0]-1)-j][a][z]\n",
    "                #weights.elements[i][j][a][z]\n",
    "\n",
    "in_tensor.deltas = np.zeros(in_tensor.shape)\n",
    "# for x in range(len(padded_array) - kernel_size.shape[0] + 1):\n",
    "for x in range(len(padded_array)):\n",
    " #    for y in range(len(padded_array[0]) - kernel_size.shape[1] + 1):\n",
    "    for y in range(len(padded_array[0])):\n",
    "        for a in range(in_tensor.shape[2]):\n",
    "            for i in range(kernel_size.shape[0]):\n",
    "                for j in range(kernel_size.shape[1]):\n",
    "                    if x + i < len(padded_array) and y + j <len(padded_array[0]):\n",
    "                        in_tensor.deltas[x][y][a] = in_tensor.deltas[x][y][a] + np.dot(padded_array[x + i][y + j], rotated_filter[i][j][a])\n",
    "                        print(f'x:{x} y:{y} i:{i} j:{j}')\n",
    "                        print(padded_array[x + i][y + j])\n",
    "                        print(rotated_filter[i][j][a])\n",
    "                        print(np.dot(padded_array[x + i][y + j], rotated_filter[i][j][a]))\n",
    "                    \n",
    "                    # print(weights.elements[i][j][a])"
   ]
  },
  {
   "cell_type": "code",
   "execution_count": 126,
   "metadata": {},
   "outputs": [],
   "source": [
    "weights.deltas = np.zeros(weights.shape)\n",
    "for filter in range(num_filters):\n",
    "    for i in range(kernel_size.shape[0]):\n",
    "        for j in range(kernel_size.shape[1]):\n",
    "            for a in range(in_tensor.shape[2]):\n",
    "                for x in range(len(in_tensor.elements) - kernel_size.shape[0] + 1):\n",
    "                    for y in range(len(in_tensor.elements[0]) - kernel_size.shape[1] + 1):\n",
    "                        weights.deltas[i][j][a][filter] = weights.deltas[i][j][a][filter] + in_tensor.elements[x + i][y + j][a] * out_tensor.deltas[x][y][filter]\n",
    "                        # print(f'{in_tensor.elements[x + i][y + j][a]} * {out_tensor.deltas[x][y][0]}')"
   ]
  }
 ],
 "metadata": {
  "kernelspec": {
   "display_name": "pnn-nc5Lufp7-py3.11",
   "language": "python",
   "name": "python3"
  },
  "language_info": {
   "codemirror_mode": {
    "name": "ipython",
    "version": 3
   },
   "file_extension": ".py",
   "mimetype": "text/x-python",
   "name": "python",
   "nbconvert_exporter": "python",
   "pygments_lexer": "ipython3",
   "version": "3.11.7"
  }
 },
 "nbformat": 4,
 "nbformat_minor": 2
}
