{
 "cells": [
  {
   "cell_type": "code",
   "execution_count": 257,
   "metadata": {},
   "outputs": [
    {
     "name": "stdout",
     "output_type": "stream",
     "text": [
      "The autoreload extension is already loaded. To reload it, use:\n",
      "  %reload_ext autoreload\n"
     ]
    }
   ],
   "source": [
    "%load_ext autoreload\n",
    "%autoreload 2"
   ]
  },
  {
   "cell_type": "code",
   "execution_count": 258,
   "metadata": {},
   "outputs": [],
   "source": [
    "from src.pnn.layer.input_layer import InputLayer\n",
    "from src.pnn.tensor import Tensor\n",
    "from src.pnn.layer.fully_connected import FullyConnected\n",
    "from src.pnn.layer.activation import ActivationLayer, sigmoid, soft_max\n",
    "import mnist\n",
    "import numpy as np "
   ]
  },
  {
   "cell_type": "code",
   "execution_count": 259,
   "metadata": {},
   "outputs": [],
   "source": [
    "images = mnist.train_images()"
   ]
  },
  {
   "cell_type": "markdown",
   "metadata": {},
   "source": [
    "# Input Layer"
   ]
  },
  {
   "cell_type": "code",
   "execution_count": 260,
   "metadata": {},
   "outputs": [],
   "source": [
    "input_layer = InputLayer()\n",
    "input_tensorlist = input_layer.forward(images)"
   ]
  },
  {
   "cell_type": "markdown",
   "metadata": {},
   "source": [
    "# Fully Connected 1"
   ]
  },
  {
   "cell_type": "code",
   "execution_count": 261,
   "metadata": {},
   "outputs": [],
   "source": [
    "out_shape=(100,)\n",
    "fully_connected = FullyConnected(in_shape=input_tensorlist[0].shape, out_shape=out_shape)\n",
    "out_tensor_fully_connected1 = np.array([Tensor(np.random.rand(out_shape[0]), None) for j in range(0, len(input_tensorlist))])\n",
    "fully_connected.forward(in_tensors=input_tensorlist, out_tensors=out_tensor_fully_connected1)"
   ]
  },
  {
   "cell_type": "code",
   "execution_count": 262,
   "metadata": {},
   "outputs": [
    {
     "data": {
      "text/plain": [
       "array([13985.34681376, 15433.37721785, 14036.9359551 , 14682.37928788,\n",
       "       13881.02226995, 13805.77030836, 14207.34011567, 14933.54540184,\n",
       "       14072.96791034, 12676.56564302, 14065.02167984, 13492.22710132,\n",
       "       15500.10443432, 13165.00646062, 13162.52610039, 13451.73318427,\n",
       "       14249.38035717, 14005.35156749, 13085.58245089, 13769.95038232,\n",
       "       14132.26552887, 12526.43353163, 13352.59049995, 14135.15130902,\n",
       "       14533.62173864, 13372.08116108, 13373.23008524, 13518.38409165,\n",
       "       12790.48371815, 13697.12515216, 15254.45626241, 13754.56413947,\n",
       "       14104.47967533, 13939.53657155, 12791.92857373, 12590.38365112,\n",
       "       12750.89785673, 13488.66873161, 14032.10091735, 13444.86214618,\n",
       "       14472.22913673, 13556.6897942 , 14610.28798921, 13409.87854507,\n",
       "       14533.73693975, 13267.41801144, 14307.39126307, 15170.3576435 ,\n",
       "       15456.81929514, 13881.56000484, 14009.36983064, 14108.74076745,\n",
       "       13195.3819744 , 14677.53405458, 14487.15940767, 14032.46826074,\n",
       "       13932.11273993, 12760.8643571 , 13328.50503777, 14503.24496808,\n",
       "       13326.40165546, 13867.83749154, 13290.00709774, 14501.94058172,\n",
       "       13722.2295107 , 12967.22704178, 13552.20510488, 13937.97778486,\n",
       "       13225.27937376, 13508.09059989, 13638.67553287, 13907.49838318,\n",
       "       14147.67268075, 13524.18338764, 13329.16576612, 14138.42294064,\n",
       "       14079.53094908, 13657.62496923, 13524.96968102, 14470.81172869,\n",
       "       13081.72386836, 13371.36208197, 13916.27095316, 14066.76168034,\n",
       "       13044.40965524, 13145.03767844, 14833.16854181, 14288.20719464,\n",
       "       13643.0385297 , 13882.0545991 , 12896.89093599, 13901.45750075,\n",
       "       13492.11283047, 13807.28025281, 13412.80894547, 13745.07246797,\n",
       "       13653.330732  , 13859.47355869, 14399.17642602, 13706.83428128])"
      ]
     },
     "execution_count": 262,
     "metadata": {},
     "output_type": "execute_result"
    }
   ],
   "source": [
    "out_tensor_fully_connected1[0].elements"
   ]
  },
  {
   "cell_type": "markdown",
   "metadata": {},
   "source": [
    "# Sigmoid"
   ]
  },
  {
   "cell_type": "code",
   "execution_count": 263,
   "metadata": {},
   "outputs": [],
   "source": [
    "activation_layer = ActivationLayer(sigmoid)\n",
    "out_tensor_activation = np.array([Tensor(np.random.rand(out_shape[0]), None) for j in range(0, len(input_tensorlist))])\n",
    "activation_layer.forward(out_tensor_fully_connected1, out_tensor_activation)"
   ]
  },
  {
   "cell_type": "code",
   "execution_count": 264,
   "metadata": {},
   "outputs": [
    {
     "name": "stdout",
     "output_type": "stream",
     "text": [
      "100\n"
     ]
    },
    {
     "data": {
      "text/plain": [
       "array([0.76211768, 0.29731393, 0.5080642 , 0.45694143, 0.24476307,\n",
       "       0.99917545, 0.45865949, 0.62172213, 0.88466208, 0.43287041,\n",
       "       0.99961966, 0.59142824, 0.70520989, 0.76589825, 0.25217722,\n",
       "       0.26506689, 0.20602895, 0.97064439, 0.86743356, 0.60669963,\n",
       "       0.77854996, 0.93740168, 0.98676421, 0.30833479, 0.2048915 ,\n",
       "       0.34451054, 0.44478511, 0.59728171, 0.85831245, 0.4942477 ,\n",
       "       0.47438563, 0.46594741, 0.12432916, 0.14384993, 0.37125498,\n",
       "       0.89204765, 0.5378683 , 0.93666892, 0.18856572, 0.34082857,\n",
       "       0.40899724, 0.10013759, 0.66599096, 0.66979194, 0.40567498,\n",
       "       0.77743366, 0.15120794, 0.54361305, 0.4601784 , 0.68640034,\n",
       "       0.26743706, 0.88490161, 0.61078831, 0.21053765, 0.82233236,\n",
       "       0.93963011, 0.98744397, 0.85691449, 0.46738452, 0.54459941,\n",
       "       0.32963993, 0.04100199, 0.10138405, 0.52854873, 0.21450109,\n",
       "       0.961019  , 0.02034125, 0.27259525, 0.5068632 , 0.85500679,\n",
       "       0.35955038, 0.87138939, 0.58950733, 0.40479484, 0.03929085,\n",
       "       0.79075209, 0.55493172, 0.56836684, 0.40874118, 0.76889692,\n",
       "       0.76096164, 0.11178308, 0.52421582, 0.91689474, 0.50042156,\n",
       "       0.60870555, 0.60135743, 0.80922031, 0.05581922, 0.91220422,\n",
       "       0.17055956, 0.9771136 , 0.5895831 , 0.48923478, 0.98901412,\n",
       "       0.27104001, 0.61835683, 0.24842126, 0.30602447, 0.50049661])"
      ]
     },
     "execution_count": 264,
     "metadata": {},
     "output_type": "execute_result"
    }
   ],
   "source": [
    "print(len(out_tensor_activation[0].elements))\n",
    "out_tensor_activation[1].elements"
   ]
  },
  {
   "cell_type": "markdown",
   "metadata": {},
   "source": [
    "# Fully Connected 2"
   ]
  },
  {
   "cell_type": "code",
   "execution_count": 265,
   "metadata": {},
   "outputs": [],
   "source": [
    "out_shape=(10,)\n",
    "fully_connected = FullyConnected(in_shape=out_tensor_activation[0].shape, out_shape=out_shape)\n",
    "out_tensor_fully_connected2 = np.array([Tensor(np.random.rand(out_shape[0]), None) for j in range(0, len(input_tensorlist))])\n",
    "fully_connected.forward(in_tensors=out_tensor_activation, out_tensors=out_tensor_fully_connected2)"
   ]
  },
  {
   "cell_type": "code",
   "execution_count": 266,
   "metadata": {},
   "outputs": [
    {
     "data": {
      "text/plain": [
       "array([30.27711425, 27.08922536, 30.55297041, 29.02768508, 28.00148764,\n",
       "       29.20370053, 27.50276268, 27.74427665, 27.56540434, 27.99268665])"
      ]
     },
     "execution_count": 266,
     "metadata": {},
     "output_type": "execute_result"
    }
   ],
   "source": [
    "out_tensor_fully_connected2[0].elements"
   ]
  },
  {
   "cell_type": "markdown",
   "metadata": {},
   "source": [
    "# Soft Max"
   ]
  },
  {
   "cell_type": "code",
   "execution_count": 270,
   "metadata": {},
   "outputs": [
    {
     "data": {
      "text/plain": [
       "47939417776693.24"
      ]
     },
     "execution_count": 270,
     "metadata": {},
     "output_type": "execute_result"
    }
   ],
   "source": [
    "#summe = [np.exp(x_j) for x_j in out_tensor_fully_connected2[0].elements]\n",
    "summe = np.sum(np.exp(out_tensor_fully_connected2[0].elements))\n",
    "summe"
   ]
  },
  {
   "cell_type": "code",
   "execution_count": 271,
   "metadata": {},
   "outputs": [],
   "source": [
    "activation_layer = ActivationLayer(soft_max)\n",
    "out_tensor_activation = np.array([Tensor(np.random.rand(out_shape[0]), None) for j in range(0, len(input_tensorlist))])\n",
    "activation_layer.forward(out_tensor_fully_connected2, out_tensor_activation)"
   ]
  },
  {
   "cell_type": "code",
   "execution_count": 272,
   "metadata": {},
   "outputs": [
    {
     "name": "stdout",
     "output_type": "stream",
     "text": [
      "10\n"
     ]
    },
    {
     "data": {
      "text/plain": [
       "array([0.05072468, 0.43462817, 0.0933926 , 0.81252622, 0.24052589,\n",
       "       0.54553947, 0.71615271, 0.07569898, 0.82455171, 0.19100011])"
      ]
     },
     "execution_count": 272,
     "metadata": {},
     "output_type": "execute_result"
    }
   ],
   "source": [
    "print(len(out_tensor_activation[0].elements))\n",
    "out_tensor_activation[1].elements"
   ]
  },
  {
   "cell_type": "code",
   "execution_count": null,
   "metadata": {},
   "outputs": [],
   "source": []
  }
 ],
 "metadata": {
  "kernelspec": {
   "display_name": "pnn-nc5Lufp7-py3.11",
   "language": "python",
   "name": "python3"
  },
  "language_info": {
   "codemirror_mode": {
    "name": "ipython",
    "version": 3
   },
   "file_extension": ".py",
   "mimetype": "text/x-python",
   "name": "python",
   "nbconvert_exporter": "python",
   "pygments_lexer": "ipython3",
   "version": "3.11.5"
  }
 },
 "nbformat": 4,
 "nbformat_minor": 2
}
