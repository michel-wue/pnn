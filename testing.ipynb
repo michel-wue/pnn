{
 "cells": [
  {
   "cell_type": "code",
   "execution_count": 6,
   "metadata": {},
   "outputs": [],
   "source": [
    "%load_ext autoreload\n",
    "%autoreload 2"
   ]
  },
  {
   "cell_type": "code",
   "execution_count": 7,
   "metadata": {},
   "outputs": [],
   "source": [
    "from src.pnn.layer.input_layer import InputLayer\n",
    "from src.pnn.tensor import Tensor\n",
    "from src.pnn.layer.fully_connected import FullyConnected\n",
    "from src.pnn.layer.activation import ActivationLayer, sigmoid, soft_max\n",
    "from src.pnn.layer.loss import LossLayer, mean_squared_error, cross_entropy\n",
    "from src.pnn.network import Network\n",
    "import mnist\n",
    "import numpy as np "
   ]
  },
  {
   "cell_type": "code",
   "execution_count": 5,
   "metadata": {},
   "outputs": [],
   "source": [
    "images = mnist.train_images()"
   ]
  },
  {
   "cell_type": "code",
   "execution_count": 6,
   "metadata": {},
   "outputs": [],
   "source": [
    "train_images = mnist.train_images()\n",
    "train_labels = mnist.train_labels()\n",
    "\n",
    "test_images = mnist.test_images()\n",
    "test_labels = mnist.test_labels()"
   ]
  },
  {
   "cell_type": "markdown",
   "metadata": {},
   "source": [
    "# Network"
   ]
  },
  {
   "cell_type": "code",
   "execution_count": 5,
   "metadata": {},
   "outputs": [],
   "source": [
    "fully_connected_1 = FullyConnected(out_shape=(100,))\n",
    "activation_layer_sigmoid = ActivationLayer(sigmoid)\n",
    "fully_connected_2 = FullyConnected(out_shape=(10,)) \n",
    "activation_layer_soft_max = ActivationLayer(soft_max)\n",
    "layerlist = [fully_connected_1, activation_layer_sigmoid, fully_connected_2, activation_layer_soft_max]\n",
    "network = Network(layerlist)"
   ]
  },
  {
   "cell_type": "code",
   "execution_count": 6,
   "metadata": {},
   "outputs": [],
   "source": [
    "output = network.forward(train_images)"
   ]
  },
  {
   "cell_type": "code",
   "execution_count": 7,
   "metadata": {},
   "outputs": [
    {
     "data": {
      "text/plain": [
       "array([0.02660059, 0.02174547, 0.1471829 , 0.10153397, 0.0116787 ,\n",
       "       0.16301947, 0.16059602, 0.24134091, 0.04321697, 0.08308502])"
      ]
     },
     "execution_count": 7,
     "metadata": {},
     "output_type": "execute_result"
    }
   ],
   "source": [
    "output[2].elements"
   ]
  },
  {
   "cell_type": "code",
   "execution_count": 8,
   "metadata": {},
   "outputs": [],
   "source": [
    "for i in range(len(output)):\n",
    "    if round(sum(output[i].elements)) != 1.0:\n",
    "        print(sum(output[i].elements))"
   ]
  },
  {
   "cell_type": "code",
   "execution_count": 9,
   "metadata": {},
   "outputs": [
    {
     "data": {
      "text/plain": [
       "array([5, 0, 4, ..., 5, 6, 8], dtype=uint8)"
      ]
     },
     "execution_count": 9,
     "metadata": {},
     "output_type": "execute_result"
    }
   ],
   "source": [
    "train_labels"
   ]
  },
  {
   "cell_type": "markdown",
   "metadata": {},
   "source": [
    "# Input Layer"
   ]
  },
  {
   "cell_type": "code",
   "execution_count": 40,
   "metadata": {},
   "outputs": [],
   "source": [
    "input_layer = InputLayer()\n",
    "input_tensorlist = input_layer.forward(train_images)"
   ]
  },
  {
   "cell_type": "markdown",
   "metadata": {},
   "source": [
    "# Fully Connected 1"
   ]
  },
  {
   "cell_type": "code",
   "execution_count": 42,
   "metadata": {},
   "outputs": [],
   "source": [
    "out_shape=(100,)\n",
    "fully_connected = FullyConnected(out_shape=out_shape)\n",
    "out_tensor_fully_connected1 = np.array([Tensor(np.random.rand(out_shape[0]), None) for j in range(0, len(input_tensorlist))])\n",
    "fully_connected.forward(in_tensors=input_tensorlist, out_tensors=out_tensor_fully_connected1)"
   ]
  },
  {
   "cell_type": "code",
   "execution_count": 43,
   "metadata": {},
   "outputs": [
    {
     "data": {
      "text/plain": [
       "array([13855.32327516, 14567.87946531, 12531.64266387, 13065.09199568,\n",
       "       13717.27042773, 13144.85267195, 14172.86492735, 13344.64554154,\n",
       "       13789.30046119, 13234.91262216, 14386.86711745, 14110.44445943,\n",
       "       14011.03393467, 13626.79211007, 14183.92327854, 13196.15787959,\n",
       "       12533.8216709 , 14009.36439561, 14305.71061599, 14244.94249371,\n",
       "       13756.82421686, 14248.35678187, 13694.60728455, 13465.37950326,\n",
       "       13765.26222772, 14410.22192256, 13453.50571786, 13971.10785787,\n",
       "       13484.35685788, 12655.63794863, 12429.55267367, 14555.04290196,\n",
       "       13832.72866545, 14343.43362097, 13755.93510764, 13823.52715719,\n",
       "       13342.75422834, 12687.45679859, 13605.87063681, 13682.76244315,\n",
       "       13272.07845833, 12832.37884452, 14254.27618778, 12977.85169336,\n",
       "       15051.38516363, 14307.03311969, 14245.05595451, 12788.95005566,\n",
       "       13792.19609532, 13385.96231409, 13881.2569936 , 13664.41136983,\n",
       "       14123.34368646, 13645.73949912, 14719.56784325, 13915.15399392,\n",
       "       14166.66715271, 14809.240408  , 13639.68862154, 13544.74970512,\n",
       "       13205.13394831, 13378.76225168, 15057.42276619, 14429.58289117,\n",
       "       12872.99561145, 14492.98478382, 14338.38583837, 14604.87407039,\n",
       "       13601.41990684, 12473.51839397, 13403.1779679 , 13548.28077242,\n",
       "       14344.28849247, 12804.38035959, 13076.56765404, 13028.97948262,\n",
       "       13142.17927788, 13168.67980436, 13695.24201877, 14092.45280968,\n",
       "       13620.39754133, 14890.4803807 , 13474.51953145, 14468.21317034,\n",
       "       13811.4023092 , 13537.48457039, 14499.30977841, 15129.87907948,\n",
       "       13710.35258405, 14109.72208311, 14312.01369653, 13363.14115053,\n",
       "       14182.25415053, 12834.39074149, 12224.93737001, 13841.53165683,\n",
       "       14027.44862187, 13272.8773969 , 12718.89282211, 12940.7524809 ])"
      ]
     },
     "execution_count": 43,
     "metadata": {},
     "output_type": "execute_result"
    }
   ],
   "source": [
    "out_tensor_fully_connected1[0].elements"
   ]
  },
  {
   "cell_type": "markdown",
   "metadata": {},
   "source": [
    "# Sigmoid"
   ]
  },
  {
   "cell_type": "code",
   "execution_count": 44,
   "metadata": {},
   "outputs": [],
   "source": [
    "activation_layer = ActivationLayer(sigmoid)\n",
    "out_tensor_activation = np.array([Tensor(np.random.rand(out_shape[0]), None) for j in range(0, len(input_tensorlist))])\n",
    "activation_layer.forward(out_tensor_fully_connected1, out_tensor_activation)"
   ]
  },
  {
   "cell_type": "code",
   "execution_count": 45,
   "metadata": {},
   "outputs": [
    {
     "name": "stdout",
     "output_type": "stream",
     "text": [
      "100\n"
     ]
    },
    {
     "data": {
      "text/plain": [
       "array([0.07395514, 0.95864078, 0.64536314, 0.51211574, 0.47785172,\n",
       "       0.31821528, 0.34794268, 0.15299808, 0.78603194, 0.84844911,\n",
       "       0.11826118, 0.79070264, 0.28315033, 0.19537571, 0.61722834,\n",
       "       0.09934002, 0.90206985, 0.75291555, 0.08175249, 0.78833471,\n",
       "       0.59271155, 0.31361596, 0.89771798, 0.09477379, 0.33979575,\n",
       "       0.40523979, 0.19789784, 0.69982395, 0.73477179, 0.96308922,\n",
       "       0.73533132, 0.05105152, 0.74393334, 0.37622458, 0.76738324,\n",
       "       0.67851431, 0.50972801, 0.72720033, 0.35243003, 0.86165675,\n",
       "       0.66767748, 0.7875432 , 0.08416057, 0.19469414, 0.768648  ,\n",
       "       0.3909244 , 0.10469516, 0.02093761, 0.40423712, 0.26620896,\n",
       "       0.31830764, 0.7732067 , 0.78606706, 0.99508372, 0.607022  ,\n",
       "       0.89770199, 0.07863923, 0.45234224, 0.13126233, 0.16551187,\n",
       "       0.89628478, 0.30589692, 0.75181766, 0.40440015, 0.07500645,\n",
       "       0.55389873, 0.35865877, 0.90672263, 0.92001024, 0.27843423,\n",
       "       0.93131223, 0.63580146, 0.78609617, 0.82298145, 0.49636732,\n",
       "       0.66341026, 0.44812614, 0.16962024, 0.34104814, 0.57051431,\n",
       "       0.6540512 , 0.84757254, 0.91470522, 0.76431969, 0.59523567,\n",
       "       0.65491752, 0.87056738, 0.72610293, 0.55703484, 0.2346929 ,\n",
       "       0.44129479, 0.63057706, 0.27172691, 0.8889869 , 0.01806488,\n",
       "       0.18124978, 0.46672781, 0.55437328, 0.22648075, 0.27086498])"
      ]
     },
     "execution_count": 45,
     "metadata": {},
     "output_type": "execute_result"
    }
   ],
   "source": [
    "print(len(out_tensor_activation[0].elements))\n",
    "out_tensor_activation[1].elements"
   ]
  },
  {
   "cell_type": "markdown",
   "metadata": {},
   "source": [
    "# Fully Connected 2"
   ]
  },
  {
   "cell_type": "code",
   "execution_count": 47,
   "metadata": {},
   "outputs": [],
   "source": [
    "out_shape=(10,)\n",
    "fully_connected = FullyConnected(out_shape=out_shape)\n",
    "out_tensor_fully_connected2 = np.array([Tensor(np.random.rand(out_shape[0]), None) for j in range(0, len(input_tensorlist))])\n",
    "fully_connected.forward(in_tensors=out_tensor_activation, out_tensors=out_tensor_fully_connected2)"
   ]
  },
  {
   "cell_type": "code",
   "execution_count": 48,
   "metadata": {},
   "outputs": [
    {
     "data": {
      "text/plain": [
       "array([21.53422881, 23.77821393, 21.3411817 , 23.2444338 , 22.3820653 ,\n",
       "       20.77149952, 22.49382576, 19.6519166 , 23.03132047, 19.78697478])"
      ]
     },
     "execution_count": 48,
     "metadata": {},
     "output_type": "execute_result"
    }
   ],
   "source": [
    "out_tensor_fully_connected2[0].elements"
   ]
  },
  {
   "cell_type": "markdown",
   "metadata": {},
   "source": [
    "# Soft Max"
   ]
  },
  {
   "cell_type": "code",
   "execution_count": 49,
   "metadata": {},
   "outputs": [
    {
     "data": {
      "text/plain": [
       "60734365609.874344"
      ]
     },
     "execution_count": 49,
     "metadata": {},
     "output_type": "execute_result"
    }
   ],
   "source": [
    "#summe = [np.exp(x_j) for x_j in out_tensor_fully_connected2[0].elements]\n",
    "summe = np.sum(np.exp(out_tensor_fully_connected2[0].elements))\n",
    "summe"
   ]
  },
  {
   "cell_type": "code",
   "execution_count": 54,
   "metadata": {},
   "outputs": [],
   "source": [
    "activation_layer = ActivationLayer(soft_max)\n",
    "out_tensor_activation = np.array([Tensor(np.random.rand(out_shape[0]), None) for j in range(0, len(input_tensorlist))])\n",
    "activation_layer.forward(out_tensor_fully_connected2, out_tensor_activation)"
   ]
  },
  {
   "cell_type": "code",
   "execution_count": 55,
   "metadata": {},
   "outputs": [
    {
     "name": "stdout",
     "output_type": "stream",
     "text": [
      "10\n"
     ]
    },
    {
     "data": {
      "text/plain": [
       "array([0.03704778, 0.34939171, 0.03054379, 0.20487777, 0.08649141,\n",
       "       0.01727878, 0.09671858, 0.00564007, 0.16555446, 0.00645564])"
      ]
     },
     "execution_count": 55,
     "metadata": {},
     "output_type": "execute_result"
    }
   ],
   "source": [
    "print(len(out_tensor_activation[0].elements))\n",
    "out_tensor_activation[0].elements"
   ]
  },
  {
   "cell_type": "markdown",
   "metadata": {},
   "source": [
    "# Mean Squared Error"
   ]
  },
  {
   "cell_type": "code",
   "execution_count": 23,
   "metadata": {},
   "outputs": [],
   "source": [
    "from src.pnn.layer.loss import LossLayer, mean_squared_error, cross_entropy"
   ]
  },
  {
   "cell_type": "code",
   "execution_count": 27,
   "metadata": {},
   "outputs": [],
   "source": [
    "mse_layer = LossLayer(mean_squared_error)\n",
    "cross_entropy_layer = LossLayer(loss=cross_entropy)\n",
    "pred = [Tensor(elements=np.array([0.1, 0.2, 0.3, 0.4], dtype=np.float64))]\n",
    "target = [Tensor(elements=np.array([1, 0, 0, 0], dtype=np.float64))]\n",
    "mse = mse_layer.forward(targets=target, predictions=pred)\n",
    "cross_entropy_val = cross_entropy_layer.forward(targets=target, predictions=pred)"
   ]
  },
  {
   "cell_type": "code",
   "execution_count": 28,
   "metadata": {},
   "outputs": [
    {
     "data": {
      "text/plain": [
       "2.3025850929940455"
      ]
     },
     "execution_count": 28,
     "metadata": {},
     "output_type": "execute_result"
    }
   ],
   "source": [
    "cross_entropy_val"
   ]
  },
  {
   "cell_type": "code",
   "execution_count": 98,
   "metadata": {},
   "outputs": [],
   "source": [
    "arr1 = np.array([0.1, 0.2, 0.3, 0.4])\n",
    "arr2 = np.array([1, 0, 0, 0])"
   ]
  },
  {
   "cell_type": "code",
   "execution_count": 90,
   "metadata": {},
   "outputs": [
    {
     "data": {
      "text/plain": [
       "array([0.81, 0.04, 0.09, 0.16])"
      ]
     },
     "execution_count": 90,
     "metadata": {},
     "output_type": "execute_result"
    }
   ],
   "source": [
    "np.power(arr1 - arr2, 2) "
   ]
  },
  {
   "cell_type": "code",
   "execution_count": 93,
   "metadata": {},
   "outputs": [
    {
     "data": {
      "text/plain": [
       "0.16000000000000003"
      ]
     },
     "execution_count": 93,
     "metadata": {},
     "output_type": "execute_result"
    }
   ],
   "source": []
  },
  {
   "cell_type": "code",
   "execution_count": 1,
   "metadata": {},
   "outputs": [
    {
     "name": "stdout",
     "output_type": "stream",
     "text": [
      "25\n",
      "100\n",
      "9\n"
     ]
    }
   ],
   "source": [
    "# Step 1: Define a function\n",
    "def example_function(x):\n",
    "    return x * x\n",
    "\n",
    "# Step 2: Create a class that accepts a function as an argument\n",
    "class MyClass:\n",
    "    def __init__(self, func):\n",
    "        # Store the function in an instance variable\n",
    "        self.func = func\n",
    "\n",
    "    def call_function(self, x):\n",
    "        # Call the stored function and return its result\n",
    "        return self.func(x)\n",
    "\n",
    "# Step 3: Create an instance of MyClass, passing the example_function\n",
    "my_instance = MyClass(example_function)\n",
    "\n",
    "# Test calling the function through the class instance\n",
    "print(my_instance.call_function(5))  # Output will be 25\n",
    "print(my_instance.call_function(10)) # Output will be 100\n",
    "\n",
    "# example_function remains callable on its own\n",
    "print(example_function(3))           # Output will be 9\n"
   ]
  },
  {
   "cell_type": "code",
   "execution_count": 2,
   "metadata": {},
   "outputs": [
    {
     "data": {
      "text/plain": [
       "<function __main__.example_function(x)>"
      ]
     },
     "execution_count": 2,
     "metadata": {},
     "output_type": "execute_result"
    }
   ],
   "source": [
    "my_instance.func"
   ]
  }
 ],
 "metadata": {
  "kernelspec": {
   "display_name": "pnn-nc5Lufp7-py3.11",
   "language": "python",
   "name": "python3"
  },
  "language_info": {
   "codemirror_mode": {
    "name": "ipython",
    "version": 3
   },
   "file_extension": ".py",
   "mimetype": "text/x-python",
   "name": "python",
   "nbconvert_exporter": "python",
   "pygments_lexer": "ipython3",
   "version": "3.11.7"
  }
 },
 "nbformat": 4,
 "nbformat_minor": 2
}
