{
 "cells": [
  {
   "cell_type": "code",
   "execution_count": 1,
   "metadata": {},
   "outputs": [],
   "source": [
    "%load_ext autoreload\n",
    "%autoreload 2"
   ]
  },
  {
   "cell_type": "code",
   "execution_count": 37,
   "metadata": {},
   "outputs": [],
   "source": [
    "from pnn.layer.input import InputLayer\n",
    "from src.pnn.tensor import Tensor\n",
    "from src.pnn.layer.fully_connected import FullyConnected\n",
    "from src.pnn.layer.activation import ActivationLayer, sigmoid, soft_max\n",
    "from src.pnn.layer.loss import LossLayer, mean_squared_error, cross_entropy\n",
    "from src.pnn.network import Network\n",
    "from pnn.shape import Shape\n",
    "import mnist\n",
    "import numpy as np "
   ]
  },
  {
   "cell_type": "markdown",
   "metadata": {},
   "source": [
    "# tests"
   ]
  },
  {
   "cell_type": "code",
   "execution_count": 38,
   "metadata": {},
   "outputs": [],
   "source": [
    "weight_matrix = Tensor(\n",
    "    elements=np.array([[3, 5], [4, 6]], dtype=np.float64)\n",
    ")\n",
    "bias = Tensor(elements=np.array([0.5, 0.6], dtype=np.float64))\n",
    "fc_layer = FullyConnected(in_shape=Shape((2,1)), out_shape=Shape((2, 1)))\n",
    "fc_layer.weights = weight_matrix\n",
    "fc_layer.bias = bias"
   ]
  },
  {
   "cell_type": "code",
   "execution_count": 39,
   "metadata": {},
   "outputs": [],
   "source": [
    "in_tensors = [Tensor(elements=np.array([1, 2], dtype=np.float64))]\n",
    "out_tensors = [Tensor(elements=np.array([0, 0], dtype=np.float64))]\n",
    "fc_layer.forward(in_tensors, out_tensors)"
   ]
  },
  {
   "cell_type": "code",
   "execution_count": 40,
   "metadata": {},
   "outputs": [
    {
     "data": {
      "text/plain": [
       "array([13.5, 16.6])"
      ]
     },
     "execution_count": 40,
     "metadata": {},
     "output_type": "execute_result"
    }
   ],
   "source": [
    "out_tensors[0].elements"
   ]
  },
  {
   "cell_type": "markdown",
   "metadata": {},
   "source": [
    "# Items"
   ]
  },
  {
   "cell_type": "code",
   "execution_count": 5,
   "metadata": {},
   "outputs": [],
   "source": [
    "images = mnist.train_images()"
   ]
  },
  {
   "cell_type": "code",
   "execution_count": 6,
   "metadata": {},
   "outputs": [],
   "source": [
    "train_images = mnist.train_images()\n",
    "train_labels = mnist.train_labels()\n",
    "\n",
    "test_images = mnist.test_images()\n",
    "test_labels = mnist.test_labels()"
   ]
  },
  {
   "cell_type": "markdown",
   "metadata": {},
   "source": [
    "# Network"
   ]
  },
  {
   "cell_type": "code",
   "execution_count": 5,
   "metadata": {},
   "outputs": [],
   "source": [
    "fully_connected_1 = FullyConnected(out_shape=(100,))\n",
    "activation_layer_sigmoid = ActivationLayer(sigmoid)\n",
    "fully_connected_2 = FullyConnected(out_shape=(10,)) \n",
    "activation_layer_soft_max = ActivationLayer(soft_max)\n",
    "layerlist = [fully_connected_1, activation_layer_sigmoid, fully_connected_2, activation_layer_soft_max]\n",
    "network = Network(layerlist)"
   ]
  },
  {
   "cell_type": "code",
   "execution_count": 6,
   "metadata": {},
   "outputs": [],
   "source": [
    "output = network.forward(train_images)"
   ]
  },
  {
   "cell_type": "code",
   "execution_count": 7,
   "metadata": {},
   "outputs": [
    {
     "data": {
      "text/plain": [
       "array([0.02660059, 0.02174547, 0.1471829 , 0.10153397, 0.0116787 ,\n",
       "       0.16301947, 0.16059602, 0.24134091, 0.04321697, 0.08308502])"
      ]
     },
     "execution_count": 7,
     "metadata": {},
     "output_type": "execute_result"
    }
   ],
   "source": [
    "output[2].elements"
   ]
  },
  {
   "cell_type": "code",
   "execution_count": 8,
   "metadata": {},
   "outputs": [],
   "source": [
    "for i in range(len(output)):\n",
    "    if round(sum(output[i].elements)) != 1.0:\n",
    "        print(sum(output[i].elements))"
   ]
  },
  {
   "cell_type": "code",
   "execution_count": 9,
   "metadata": {},
   "outputs": [
    {
     "data": {
      "text/plain": [
       "array([5, 0, 4, ..., 5, 6, 8], dtype=uint8)"
      ]
     },
     "execution_count": 9,
     "metadata": {},
     "output_type": "execute_result"
    }
   ],
   "source": [
    "train_labels"
   ]
  },
  {
   "cell_type": "markdown",
   "metadata": {},
   "source": [
    "# Input Layer"
   ]
  },
  {
   "cell_type": "code",
   "execution_count": 40,
   "metadata": {},
   "outputs": [],
   "source": [
    "input_layer = InputLayer()\n",
    "input_tensorlist = input_layer.forward(train_images)"
   ]
  },
  {
   "cell_type": "markdown",
   "metadata": {},
   "source": [
    "# Fully Connected 1"
   ]
  },
  {
   "cell_type": "code",
   "execution_count": 42,
   "metadata": {},
   "outputs": [],
   "source": [
    "out_shape=(100,)\n",
    "fully_connected = FullyConnected(out_shape=out_shape)\n",
    "out_tensor_fully_connected1 = np.array([Tensor(np.random.rand(out_shape[0]), None) for j in range(0, len(input_tensorlist))])\n",
    "fully_connected.forward(in_tensors=input_tensorlist, out_tensors=out_tensor_fully_connected1)"
   ]
  },
  {
   "cell_type": "code",
   "execution_count": 43,
   "metadata": {},
   "outputs": [
    {
     "data": {
      "text/plain": [
       "array([13855.32327516, 14567.87946531, 12531.64266387, 13065.09199568,\n",
       "       13717.27042773, 13144.85267195, 14172.86492735, 13344.64554154,\n",
       "       13789.30046119, 13234.91262216, 14386.86711745, 14110.44445943,\n",
       "       14011.03393467, 13626.79211007, 14183.92327854, 13196.15787959,\n",
       "       12533.8216709 , 14009.36439561, 14305.71061599, 14244.94249371,\n",
       "       13756.82421686, 14248.35678187, 13694.60728455, 13465.37950326,\n",
       "       13765.26222772, 14410.22192256, 13453.50571786, 13971.10785787,\n",
       "       13484.35685788, 12655.63794863, 12429.55267367, 14555.04290196,\n",
       "       13832.72866545, 14343.43362097, 13755.93510764, 13823.52715719,\n",
       "       13342.75422834, 12687.45679859, 13605.87063681, 13682.76244315,\n",
       "       13272.07845833, 12832.37884452, 14254.27618778, 12977.85169336,\n",
       "       15051.38516363, 14307.03311969, 14245.05595451, 12788.95005566,\n",
       "       13792.19609532, 13385.96231409, 13881.2569936 , 13664.41136983,\n",
       "       14123.34368646, 13645.73949912, 14719.56784325, 13915.15399392,\n",
       "       14166.66715271, 14809.240408  , 13639.68862154, 13544.74970512,\n",
       "       13205.13394831, 13378.76225168, 15057.42276619, 14429.58289117,\n",
       "       12872.99561145, 14492.98478382, 14338.38583837, 14604.87407039,\n",
       "       13601.41990684, 12473.51839397, 13403.1779679 , 13548.28077242,\n",
       "       14344.28849247, 12804.38035959, 13076.56765404, 13028.97948262,\n",
       "       13142.17927788, 13168.67980436, 13695.24201877, 14092.45280968,\n",
       "       13620.39754133, 14890.4803807 , 13474.51953145, 14468.21317034,\n",
       "       13811.4023092 , 13537.48457039, 14499.30977841, 15129.87907948,\n",
       "       13710.35258405, 14109.72208311, 14312.01369653, 13363.14115053,\n",
       "       14182.25415053, 12834.39074149, 12224.93737001, 13841.53165683,\n",
       "       14027.44862187, 13272.8773969 , 12718.89282211, 12940.7524809 ])"
      ]
     },
     "execution_count": 43,
     "metadata": {},
     "output_type": "execute_result"
    }
   ],
   "source": [
    "out_tensor_fully_connected1[0].elements"
   ]
  },
  {
   "cell_type": "markdown",
   "metadata": {},
   "source": [
    "# Sigmoid"
   ]
  },
  {
   "cell_type": "code",
   "execution_count": 44,
   "metadata": {},
   "outputs": [],
   "source": [
    "activation_layer = ActivationLayer(sigmoid)\n",
    "out_tensor_activation = np.array([Tensor(np.random.rand(out_shape[0]), None) for j in range(0, len(input_tensorlist))])\n",
    "activation_layer.forward(out_tensor_fully_connected1, out_tensor_activation)"
   ]
  },
  {
   "cell_type": "code",
   "execution_count": 33,
   "metadata": {},
   "outputs": [],
   "source": [
    "sigmoid_layer = ActivationLayer(sigmoid)"
   ]
  },
  {
   "cell_type": "code",
   "execution_count": 34,
   "metadata": {},
   "outputs": [],
   "source": [
    "in_tensors = [Tensor(elements=np.array([1, 2, 3, 4], dtype=np.float64))]\n",
    "out_tensors = [Tensor(elements=np.array([0, 0, 0, 0], dtype=np.float64))]\n",
    "out_tensors[0].deltas = np.array([6, 7, 8, 9])\n",
    "expected_output = [1.1796716, 0.7349551, 0.36141328, 0.15896436]\n",
    "\n",
    "sigmoid_layer.forward(in_tensors, out_tensors)\n",
    "sigmoid_layer.backward(out_tensors, in_tensors)"
   ]
  },
  {
   "cell_type": "code",
   "execution_count": 35,
   "metadata": {},
   "outputs": [
    {
     "data": {
      "text/plain": [
       "array([1.1796716 , 0.7349551 , 0.36141328, 0.15896436])"
      ]
     },
     "execution_count": 35,
     "metadata": {},
     "output_type": "execute_result"
    }
   ],
   "source": [
    "in_tensors[0].deltas"
   ]
  },
  {
   "cell_type": "markdown",
   "metadata": {},
   "source": [
    "# Fully Connected 2"
   ]
  },
  {
   "cell_type": "code",
   "execution_count": 47,
   "metadata": {},
   "outputs": [],
   "source": [
    "out_shape=(10,)\n",
    "fully_connected = FullyConnected(out_shape=out_shape)\n",
    "out_tensor_fully_connected2 = np.array([Tensor(np.random.rand(out_shape[0]), None) for j in range(0, len(input_tensorlist))])\n",
    "fully_connected.forward(in_tensors=out_tensor_activation, out_tensors=out_tensor_fully_connected2)"
   ]
  },
  {
   "cell_type": "code",
   "execution_count": 48,
   "metadata": {},
   "outputs": [
    {
     "data": {
      "text/plain": [
       "array([21.53422881, 23.77821393, 21.3411817 , 23.2444338 , 22.3820653 ,\n",
       "       20.77149952, 22.49382576, 19.6519166 , 23.03132047, 19.78697478])"
      ]
     },
     "execution_count": 48,
     "metadata": {},
     "output_type": "execute_result"
    }
   ],
   "source": [
    "out_tensor_fully_connected2[0].elements"
   ]
  },
  {
   "cell_type": "markdown",
   "metadata": {},
   "source": [
    "# Soft Max"
   ]
  },
  {
   "cell_type": "code",
   "execution_count": 54,
   "metadata": {},
   "outputs": [],
   "source": [
    "activation_layer = ActivationLayer(soft_max)\n",
    "out_tensor_activation = np.array([Tensor(np.random.rand(out_shape[0]), None) for j in range(0, len(input_tensorlist))])\n",
    "activation_layer.forward(out_tensor_fully_connected2, out_tensor_activation)"
   ]
  },
  {
   "cell_type": "code",
   "execution_count": 55,
   "metadata": {},
   "outputs": [
    {
     "name": "stdout",
     "output_type": "stream",
     "text": [
      "10\n"
     ]
    },
    {
     "data": {
      "text/plain": [
       "array([0.03704778, 0.34939171, 0.03054379, 0.20487777, 0.08649141,\n",
       "       0.01727878, 0.09671858, 0.00564007, 0.16555446, 0.00645564])"
      ]
     },
     "execution_count": 55,
     "metadata": {},
     "output_type": "execute_result"
    }
   ],
   "source": [
    "print(len(out_tensor_activation[0].elements))\n",
    "out_tensor_activation[0].elements"
   ]
  },
  {
   "cell_type": "markdown",
   "metadata": {},
   "source": [
    "# Mean Squared Error"
   ]
  },
  {
   "cell_type": "code",
   "execution_count": 27,
   "metadata": {},
   "outputs": [],
   "source": [
    "mse_layer = LossLayer(mean_squared_error)\n",
    "cross_entropy_layer = LossLayer(loss=cross_entropy)\n",
    "pred = [Tensor(elements=np.array([0.1, 0.2, 0.3, 0.4], dtype=np.float64))]\n",
    "target = [Tensor(elements=np.array([1, 0, 0, 0], dtype=np.float64))]\n",
    "mse = mse_layer.forward(targets=target, predictions=pred)\n",
    "cross_entropy_val = cross_entropy_layer.forward(targets=target, predictions=pred)"
   ]
  },
  {
   "cell_type": "code",
   "execution_count": 28,
   "metadata": {},
   "outputs": [
    {
     "data": {
      "text/plain": [
       "2.3025850929940455"
      ]
     },
     "execution_count": 28,
     "metadata": {},
     "output_type": "execute_result"
    }
   ],
   "source": [
    "cross_entropy_val"
   ]
  }
 ],
 "metadata": {
  "kernelspec": {
   "display_name": "pnn-nc5Lufp7-py3.11",
   "language": "python",
   "name": "python3"
  },
  "language_info": {
   "codemirror_mode": {
    "name": "ipython",
    "version": 3
   },
   "file_extension": ".py",
   "mimetype": "text/x-python",
   "name": "python",
   "nbconvert_exporter": "python",
   "pygments_lexer": "ipython3",
   "version": "3.11.7"
  }
 },
 "nbformat": 4,
 "nbformat_minor": 2
}
