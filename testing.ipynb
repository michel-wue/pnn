{
 "cells": [
  {
   "cell_type": "code",
   "execution_count": 4,
   "metadata": {},
   "outputs": [],
   "source": [
    "%load_ext autoreload\n",
    "%autoreload 2"
   ]
  },
  {
   "cell_type": "code",
   "execution_count": 16,
   "metadata": {},
   "outputs": [],
   "source": [
    "from src.pnn.layer.input_layer import InputLayer\n",
    "from src.pnn.tensor import Tensor\n",
    "from src.pnn.layer.fully_connected import FullyConnected\n",
    "from src.pnn.layer.activation import ActivationLayer, sigmoid, soft_max\n",
    "from src.pnn.losses import mean_squared_error\n",
    "from src.pnn.network import Network\n",
    "import mnist\n",
    "import numpy as np "
   ]
  },
  {
   "cell_type": "code",
   "execution_count": 17,
   "metadata": {},
   "outputs": [],
   "source": [
    "images = mnist.train_images()"
   ]
  },
  {
   "cell_type": "code",
   "execution_count": 18,
   "metadata": {},
   "outputs": [],
   "source": [
    "train_images = mnist.train_images()\n",
    "train_labels = mnist.train_labels()\n",
    "\n",
    "test_images = mnist.test_images()\n",
    "test_labels = mnist.test_labels()"
   ]
  },
  {
   "cell_type": "markdown",
   "metadata": {},
   "source": [
    "# Network"
   ]
  },
  {
   "cell_type": "code",
   "execution_count": 19,
   "metadata": {},
   "outputs": [],
   "source": [
    "fully_connected_1 = FullyConnected(out_shape=(100,))\n",
    "activation_layer_sigmoid = ActivationLayer(sigmoid)\n",
    "fully_connected_2 = FullyConnected(out_shape=(10,)) \n",
    "activation_layer_soft_max = ActivationLayer(soft_max)\n",
    "layerlist = [fully_connected_1, activation_layer_sigmoid, fully_connected_2, activation_layer_soft_max]\n",
    "network = Network(layerlist)"
   ]
  },
  {
   "cell_type": "code",
   "execution_count": 34,
   "metadata": {},
   "outputs": [],
   "source": [
    "output = network.forward(train_images)"
   ]
  },
  {
   "cell_type": "code",
   "execution_count": 49,
   "metadata": {},
   "outputs": [
    {
     "data": {
      "text/plain": [
       "array([0.32247967, 0.0279122 , 0.23515256, 0.00772161, 0.00353962,\n",
       "       0.34620971, 0.01407017, 0.00379568, 0.03313806, 0.00598073])"
      ]
     },
     "execution_count": 49,
     "metadata": {},
     "output_type": "execute_result"
    }
   ],
   "source": [
    "output[2].elements"
   ]
  },
  {
   "cell_type": "code",
   "execution_count": 44,
   "metadata": {},
   "outputs": [],
   "source": [
    "for i in range(len(output)):\n",
    "    if round(sum(output[i].elements)) != 1.0:\n",
    "        print(sum(output[i].elements))"
   ]
  },
  {
   "cell_type": "code",
   "execution_count": 47,
   "metadata": {},
   "outputs": [
    {
     "data": {
      "text/plain": [
       "array([5, 0, 4, ..., 5, 6, 8], dtype=uint8)"
      ]
     },
     "execution_count": 47,
     "metadata": {},
     "output_type": "execute_result"
    }
   ],
   "source": [
    "train_labels"
   ]
  },
  {
   "cell_type": "markdown",
   "metadata": {},
   "source": [
    "# Input Layer"
   ]
  },
  {
   "cell_type": "code",
   "execution_count": 4,
   "metadata": {},
   "outputs": [],
   "source": [
    "input_layer = InputLayer()\n",
    "input_tensorlist = input_layer.forward(train_images)"
   ]
  },
  {
   "cell_type": "markdown",
   "metadata": {},
   "source": [
    "# Fully Connected 1"
   ]
  },
  {
   "cell_type": "code",
   "execution_count": 5,
   "metadata": {},
   "outputs": [],
   "source": [
    "out_shape=(100,)\n",
    "fully_connected = FullyConnected(in_shape=input_tensorlist[0].shape, out_shape=out_shape)\n",
    "out_tensor_fully_connected1 = np.array([Tensor(np.random.rand(out_shape[0]), None) for j in range(0, len(input_tensorlist))])\n",
    "fully_connected.forward(in_tensors=input_tensorlist, out_tensors=out_tensor_fully_connected1)"
   ]
  },
  {
   "cell_type": "code",
   "execution_count": 6,
   "metadata": {},
   "outputs": [
    {
     "data": {
      "text/plain": [
       "array([13508.72098134, 13967.47235958, 12891.76843827, 13559.41034941,\n",
       "       13418.1134926 , 13899.85378432, 14400.53736498, 14194.46904883,\n",
       "       14868.9114156 , 12899.80464552, 13259.11787762, 14343.15875237,\n",
       "       13323.32575111, 13818.54856543, 13980.41048124, 14660.41131095,\n",
       "       13801.25906233, 13600.21275362, 14025.25606226, 13464.72161719,\n",
       "       15131.72595257, 13694.38557782, 14117.9110077 , 14742.16490946,\n",
       "       13502.78931756, 12587.89353454, 14553.63896289, 13283.73739525,\n",
       "       14380.62785525, 13527.83522674, 13354.35346448, 14740.94975425,\n",
       "       12413.74139599, 14001.51509708, 14152.96230703, 13269.12453681,\n",
       "       13095.84142013, 13643.96379513, 13465.05501938, 15323.61014039,\n",
       "       13372.41951657, 15108.19755919, 14013.01390166, 14751.45337751,\n",
       "       13785.72305912, 12147.61668837, 14033.74387727, 13682.24331765,\n",
       "       14749.37564399, 12520.99288089, 12193.23060741, 13330.73454038,\n",
       "       13681.73577464, 13857.25580622, 15039.99327574, 12308.50667211,\n",
       "       14014.73309003, 12128.08791875, 14156.12810334, 12741.897314  ,\n",
       "       14760.82232382, 13822.70617402, 14389.01953332, 13850.51951206,\n",
       "       14211.27495127, 12312.76021257, 12418.6740419 , 14712.34988769,\n",
       "       14387.53477337, 13186.43962672, 13469.02050203, 13776.13993727,\n",
       "       15276.87838147, 13273.06728691, 15482.88658681, 12839.47716705,\n",
       "       13004.66755435, 12794.24123914, 14870.90784406, 12472.17874817,\n",
       "       13991.10121157, 13677.17093014, 12442.58892182, 14982.21757586,\n",
       "       12781.20055039, 13899.80200937, 14280.00872724, 13301.11421728,\n",
       "       14065.83205042, 13849.03502932, 13359.31030716, 14457.98146171,\n",
       "       15121.69683947, 13055.06940029, 13674.57375441, 14347.32932634,\n",
       "       13096.00772781, 13689.67220904, 14263.93021139, 14327.6261719 ])"
      ]
     },
     "execution_count": 6,
     "metadata": {},
     "output_type": "execute_result"
    }
   ],
   "source": [
    "out_tensor_fully_connected1[0].elements"
   ]
  },
  {
   "cell_type": "markdown",
   "metadata": {},
   "source": [
    "# Sigmoid"
   ]
  },
  {
   "cell_type": "code",
   "execution_count": 7,
   "metadata": {},
   "outputs": [],
   "source": [
    "activation_layer = ActivationLayer(sigmoid)\n",
    "out_tensor_activation = np.array([Tensor(np.random.rand(out_shape[0]), None) for j in range(0, len(input_tensorlist))])\n",
    "activation_layer.forward(out_tensor_fully_connected1, out_tensor_activation)"
   ]
  },
  {
   "cell_type": "code",
   "execution_count": 8,
   "metadata": {},
   "outputs": [
    {
     "name": "stdout",
     "output_type": "stream",
     "text": [
      "100\n"
     ]
    },
    {
     "data": {
      "text/plain": [
       "array([0.8405994 , 0.12505484, 0.95988509, 0.17798985, 0.47540882,\n",
       "       0.62778221, 0.73908771, 0.46548945, 0.09912268, 0.64038511,\n",
       "       0.39850173, 0.03833022, 0.18474362, 0.90532862, 0.54702116,\n",
       "       0.75481104, 0.87260695, 0.57710625, 0.09481868, 0.52213121,\n",
       "       0.1076132 , 0.8557017 , 0.49285399, 0.49949457, 0.71893696,\n",
       "       0.88888328, 0.42748435, 0.61362378, 0.6933513 , 0.95542516,\n",
       "       0.07387227, 0.72527326, 0.97608855, 0.05622198, 0.34561095,\n",
       "       0.3316632 , 0.61539846, 0.30292053, 0.46823986, 0.19484395,\n",
       "       0.98386855, 0.28111616, 0.2826545 , 0.08427531, 0.34829627,\n",
       "       0.41908136, 0.65082668, 0.92400108, 0.82926065, 0.26943009,\n",
       "       0.1603504 , 0.16996517, 0.62480208, 0.02674944, 0.99661946,\n",
       "       0.53703089, 0.73023159, 0.06005371, 0.69633204, 0.14688384,\n",
       "       0.75663797, 0.31557751, 0.29259599, 0.14243612, 0.82158244,\n",
       "       0.95931125, 0.41306507, 0.7521552 , 0.20418037, 0.73267079,\n",
       "       0.10756986, 0.38794696, 0.05157972, 0.70531454, 0.28806469,\n",
       "       0.17927271, 0.67031358, 0.45257211, 0.94391393, 0.38610762,\n",
       "       0.95277041, 0.72387551, 0.97304966, 0.76057214, 0.43314411,\n",
       "       0.54883793, 0.79339692, 0.26946887, 0.91374924, 0.9598195 ,\n",
       "       0.93780806, 0.78390263, 0.62735053, 0.38681815, 0.34414354,\n",
       "       0.82989853, 0.69532294, 0.23177141, 0.33853423, 0.93389652])"
      ]
     },
     "execution_count": 8,
     "metadata": {},
     "output_type": "execute_result"
    }
   ],
   "source": [
    "print(len(out_tensor_activation[0].elements))\n",
    "out_tensor_activation[1].elements"
   ]
  },
  {
   "cell_type": "markdown",
   "metadata": {},
   "source": [
    "# Fully Connected 2"
   ]
  },
  {
   "cell_type": "code",
   "execution_count": 9,
   "metadata": {},
   "outputs": [],
   "source": [
    "out_shape=(10,)\n",
    "fully_connected = FullyConnected(in_shape=out_tensor_activation[0].shape, out_shape=out_shape)\n",
    "out_tensor_fully_connected2 = np.array([Tensor(np.random.rand(out_shape[0]), None) for j in range(0, len(input_tensorlist))])\n",
    "fully_connected.forward(in_tensors=out_tensor_activation, out_tensors=out_tensor_fully_connected2)"
   ]
  },
  {
   "cell_type": "code",
   "execution_count": 10,
   "metadata": {},
   "outputs": [
    {
     "data": {
      "text/plain": [
       "array([29.26656844, 24.38841452, 24.59375486, 28.99290293, 22.42823978,\n",
       "       29.13196211, 25.39652565, 22.36149338, 25.0368257 , 23.75257423])"
      ]
     },
     "execution_count": 10,
     "metadata": {},
     "output_type": "execute_result"
    }
   ],
   "source": [
    "out_tensor_fully_connected2[0].elements"
   ]
  },
  {
   "cell_type": "markdown",
   "metadata": {},
   "source": [
    "# Soft Max"
   ]
  },
  {
   "cell_type": "code",
   "execution_count": 11,
   "metadata": {},
   "outputs": [
    {
     "data": {
      "text/plain": [
       "13821816723145.932"
      ]
     },
     "execution_count": 11,
     "metadata": {},
     "output_type": "execute_result"
    }
   ],
   "source": [
    "#summe = [np.exp(x_j) for x_j in out_tensor_fully_connected2[0].elements]\n",
    "summe = np.sum(np.exp(out_tensor_fully_connected2[0].elements))\n",
    "summe"
   ]
  },
  {
   "cell_type": "code",
   "execution_count": 12,
   "metadata": {},
   "outputs": [],
   "source": [
    "activation_layer = ActivationLayer(soft_max)\n",
    "out_tensor_activation = np.array([Tensor(np.random.rand(out_shape[0]), None) for j in range(0, len(input_tensorlist))])\n",
    "activation_layer.forward(out_tensor_fully_connected2, out_tensor_activation)"
   ]
  },
  {
   "cell_type": "code",
   "execution_count": 13,
   "metadata": {},
   "outputs": [
    {
     "name": "stdout",
     "output_type": "stream",
     "text": [
      "10\n"
     ]
    },
    {
     "data": {
      "text/plain": [
       "array([0.42594416, 0.4496701 , 0.19685133, 0.31389363, 0.93194892,\n",
       "       0.55543645, 0.29630798, 0.56869974, 0.41107898, 0.93905759])"
      ]
     },
     "execution_count": 13,
     "metadata": {},
     "output_type": "execute_result"
    }
   ],
   "source": [
    "print(len(out_tensor_activation[0].elements))\n",
    "out_tensor_activation[0].elements"
   ]
  },
  {
   "cell_type": "markdown",
   "metadata": {},
   "source": [
    "# Mean Squared Error"
   ]
  },
  {
   "cell_type": "code",
   "execution_count": 14,
   "metadata": {},
   "outputs": [],
   "source": [
    "prediction = np.array([out_tensor_activation[i].elements.argmax(axis=0) for i in range(len(out_tensor_activation))])"
   ]
  },
  {
   "cell_type": "code",
   "execution_count": 16,
   "metadata": {},
   "outputs": [
    {
     "data": {
      "text/plain": [
       "499762.0"
      ]
     },
     "execution_count": 16,
     "metadata": {},
     "output_type": "execute_result"
    }
   ],
   "source": [
    "mean_squared_error(train_labels, prediction=prediction)"
   ]
  }
 ],
 "metadata": {
  "kernelspec": {
   "display_name": "pnn-nc5Lufp7-py3.11",
   "language": "python",
   "name": "python3"
  },
  "language_info": {
   "codemirror_mode": {
    "name": "ipython",
    "version": 3
   },
   "file_extension": ".py",
   "mimetype": "text/x-python",
   "name": "python",
   "nbconvert_exporter": "python",
   "pygments_lexer": "ipython3",
   "version": "3.11.5"
  }
 },
 "nbformat": 4,
 "nbformat_minor": 2
}
